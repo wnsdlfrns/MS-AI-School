{
 "cells": [
  {
   "cell_type": "markdown",
   "metadata": {},
   "source": [
    "# 파이썬 기본 문법 (1)"
   ]
  },
  {
   "cell_type": "markdown",
   "metadata": {},
   "source": [
    "`2024년 12월 19일`</br>\n",
    "기존에 사용하던 언어(Skript, Method script = 마인크래프트 개발툴)와 비슷한 구조여서</br>\n",
    "사용하는데 어려움은 없었지만, 수학적인 계산 부분이 많은 걸림돌이 되었다는 것을 깨달았다.</br>\n",
    "(앞으로 관련된 일을 하게될때 수학적인 부분도 분명히 필요할 것이라는 것을 느끼고 따로 공부를 해두어야 할것 같다는 생각이 든다.)</br>\n",
    "특히 짝수와 홀수를 구분하는 계산을 보면서 작지 않은 충격을 받았다."
   ]
  },
  {
   "cell_type": "markdown",
   "metadata": {},
   "source": [
    "## 프린트"
   ]
  },
  {
   "cell_type": "markdown",
   "metadata": {},
   "source": [
    "`'`나 `\"`를 감싸서 `Str`을 표현할 수 있음"
   ]
  },
  {
   "cell_type": "code",
   "execution_count": 1,
   "metadata": {},
   "outputs": [
    {
     "name": "stdout",
     "output_type": "stream",
     "text": [
      "Hello python\n"
     ]
    }
   ],
   "source": [
    "print('Hello python')"
   ]
  },
  {
   "cell_type": "code",
   "execution_count": 2,
   "metadata": {},
   "outputs": [
    {
     "name": "stdout",
     "output_type": "stream",
     "text": [
      "Hello python\n"
     ]
    }
   ],
   "source": [
    "print(\"Hello python\")"
   ]
  },
  {
   "cell_type": "markdown",
   "metadata": {},
   "source": [
    "정수나 실수를 `'`나 `\"`를 감싸서 사용하지 않으면, 숫자와 숫자를 이용한 연산이 가능함"
   ]
  },
  {
   "cell_type": "code",
   "execution_count": 3,
   "metadata": {},
   "outputs": [
    {
     "name": "stdout",
     "output_type": "stream",
     "text": [
      "1\n",
      "2\n",
      "3\n"
     ]
    }
   ],
   "source": [
    "print(1)\n",
    "print(2)\n",
    "print(3)"
   ]
  },
  {
   "cell_type": "code",
   "execution_count": 4,
   "metadata": {},
   "outputs": [
    {
     "name": "stdout",
     "output_type": "stream",
     "text": [
      "3\n",
      "5\n",
      "7\n"
     ]
    }
   ],
   "source": [
    "print(1+2)\n",
    "print(2+3)\n",
    "print(3+4)"
   ]
  },
  {
   "cell_type": "code",
   "execution_count": 5,
   "metadata": {},
   "outputs": [
    {
     "name": "stdout",
     "output_type": "stream",
     "text": [
      "1+2\n",
      "2+3\n",
      "3+4\n"
     ]
    }
   ],
   "source": [
    "print('1+2')\n",
    "print('2+3')\n",
    "print('3+4')"
   ]
  },
  {
   "cell_type": "markdown",
   "metadata": {},
   "source": [
    "주피터 노트북의 특징이며, `.py` 에서 다음과 같이 사용시 오류를 내게되므로 주의해야함</br>\n",
    "(주피터 노트북은 다음과 같은 코드가 있다면, 마지막 결과값만 출력해준다.)"
   ]
  },
  {
   "cell_type": "code",
   "execution_count": 8,
   "metadata": {},
   "outputs": [
    {
     "data": {
      "text/plain": [
       "7"
      ]
     },
     "execution_count": 8,
     "metadata": {},
     "output_type": "execute_result"
    }
   ],
   "source": [
    "1+2\n",
    "2+3\n",
    "3+4 # ← 주피터 노트북은 최종적으로 이 줄의 코드만 실행하여 결과를 반영해줌"
   ]
  },
  {
   "cell_type": "markdown",
   "metadata": {},
   "source": [
    "`따옴표(')` 또는 `쌍 따옴표(\")`와 `콤마(,)`를 사용하여 변화되는 숫자나 변수를 넣어 프린트 문 사이에 값을 넣을 수 있음"
   ]
  },
  {
   "cell_type": "code",
   "execution_count": 9,
   "metadata": {},
   "outputs": [
    {
     "name": "stdout",
     "output_type": "stream",
     "text": [
      "Hello\n",
      "Python\n",
      "홍길동의 나이 = 20 세\n"
     ]
    }
   ],
   "source": [
    "# print()문 연습\n",
    "print('Hello')\n",
    "print('Python')\n",
    "print('홍길동의 나이 =', 20, '세')"
   ]
  },
  {
   "cell_type": "markdown",
   "metadata": {},
   "source": [
    "다음과 같이 작성 시 신텍스 오류(SyntaxError; 문법에러)를 발생 시킴</br>\n",
    "(인덴테이션 에러; IndentationError; 띄어쓰기 에러)"
   ]
  },
  {
   "cell_type": "code",
   "execution_count": 13,
   "metadata": {},
   "outputs": [
    {
     "ename": "SyntaxError",
     "evalue": "unterminated string literal (detected at line 2) (1950359141.py, line 2)",
     "output_type": "error",
     "traceback": [
      "\u001b[1;36m  Cell \u001b[1;32mIn[13], line 2\u001b[1;36m\u001b[0m\n\u001b[1;33m    print('Nice\u001b[0m\n\u001b[1;37m          ^\u001b[0m\n\u001b[1;31mSyntaxError\u001b[0m\u001b[1;31m:\u001b[0m unterminated string literal (detected at line 2)\n"
     ]
    }
   ],
   "source": [
    "print('Hello'); print('Python')\n",
    "print('Nice \n",
    "      to meet you')"
   ]
  },
  {
   "cell_type": "code",
   "execution_count": 14,
   "metadata": {},
   "outputs": [
    {
     "name": "stdout",
     "output_type": "stream",
     "text": [
      "Hello\n",
      "Python\n",
      "Nice       to meet you\n"
     ]
    }
   ],
   "source": [
    "print('Hello'); print('Python')\n",
    "print('Nice \\\n",
    "      to meet you')"
   ]
  },
  {
   "cell_type": "markdown",
   "metadata": {},
   "source": [
    "print()의 기본 옵션 중 하나로 인수와 인수 사이에는 무조건 한 칸의 띄어쓰기가 포함된다.</br>\n",
    "만일, 그 사이에 다른것을 넣고 싶다면, sep=''에 대체할 것을 넣으면 된다.</br>\n",
    "예시: `sep='*'`"
   ]
  },
  {
   "cell_type": "code",
   "execution_count": 16,
   "metadata": {},
   "outputs": [
    {
     "name": "stdout",
     "output_type": "stream",
     "text": [
      "Hi*Python\n"
     ]
    }
   ],
   "source": [
    "print('Hi', 'Python', sep=\"*\")"
   ]
  },
  {
   "cell_type": "markdown",
   "metadata": {},
   "source": [
    "print()의 기본 옵션 중 하나로 자체에 이스케이프(줄바꿈) 옵션이 들어간다."
   ]
  },
  {
   "cell_type": "code",
   "execution_count": 15,
   "metadata": {},
   "outputs": [
    {
     "name": "stdout",
     "output_type": "stream",
     "text": [
      "Hello\n",
      "Python\n"
     ]
    },
    {
     "data": {
      "text/plain": [
       "(None, None)"
      ]
     },
     "execution_count": 15,
     "metadata": {},
     "output_type": "execute_result"
    }
   ],
   "source": [
    "print('Hello'), print('Python')"
   ]
  },
  {
   "cell_type": "markdown",
   "metadata": {},
   "source": [
    "줄바꿈의 옵션을 변경하고 싶다면 `end=''`를 사용하면 된다.</br>\n",
    "예시: `end=' '`"
   ]
  },
  {
   "cell_type": "code",
   "execution_count": 17,
   "metadata": {},
   "outputs": [
    {
     "name": "stdout",
     "output_type": "stream",
     "text": [
      "Hi Python\n"
     ]
    }
   ],
   "source": [
    "print('Hi', end=' ')\n",
    "print('Python')"
   ]
  },
  {
   "cell_type": "markdown",
   "metadata": {},
   "source": [
    "## 변수(기본)"
   ]
  },
  {
   "cell_type": "markdown",
   "metadata": {},
   "source": [
    "변수이름A = '값'</br>\n",
    "변수이름B = 값</br>\n",
    "</br>\n",
    "왼쪽에는 `변수 이름`을 오른쪽에는 `값`을 넣어 변수를 선언한다."
   ]
  },
  {
   "cell_type": "code",
   "execution_count": 86,
   "metadata": {},
   "outputs": [
    {
     "name": "stdout",
     "output_type": "stream",
     "text": [
      "홍길동 나이 = 29 세\n"
     ]
    }
   ],
   "source": [
    "name = '홍길동'\n",
    "age = 29\n",
    "\n",
    "print(name, '나이 =', age, '세')"
   ]
  },
  {
   "cell_type": "markdown",
   "metadata": {},
   "source": [
    "다음은 `변수의 이름`으로 사용하면 오류를 일으키는 `파이썬의 키워드 리스트`이다.</br>\n",
    "키워드 리스트에 있는 키워드들은 변수로 사용하지 않아야 한다."
   ]
  },
  {
   "cell_type": "code",
   "execution_count": 87,
   "metadata": {},
   "outputs": [
    {
     "data": {
      "text/plain": [
       "['False',\n",
       " 'None',\n",
       " 'True',\n",
       " 'and',\n",
       " 'as',\n",
       " 'assert',\n",
       " 'async',\n",
       " 'await',\n",
       " 'break',\n",
       " 'class',\n",
       " 'continue',\n",
       " 'def',\n",
       " 'del',\n",
       " 'elif',\n",
       " 'else',\n",
       " 'except',\n",
       " 'finally',\n",
       " 'for',\n",
       " 'from',\n",
       " 'global',\n",
       " 'if',\n",
       " 'import',\n",
       " 'in',\n",
       " 'is',\n",
       " 'lambda',\n",
       " 'nonlocal',\n",
       " 'not',\n",
       " 'or',\n",
       " 'pass',\n",
       " 'raise',\n",
       " 'return',\n",
       " 'try',\n",
       " 'while',\n",
       " 'with',\n",
       " 'yield']"
      ]
     },
     "execution_count": 87,
     "metadata": {},
     "output_type": "execute_result"
    }
   ],
   "source": [
    "import keyword\n",
    "keyword.kwlist"
   ]
  },
  {
   "cell_type": "markdown",
   "metadata": {},
   "source": [
    "불(불린)의 True/False 구분은 다음과 같다.</br>\n",
    "</br>\n",
    "bool()안의 값이 `채워져 있거`나 `1`의 값 이상 혹은 `-1`의 값 이하인 경우 `True`로 출력된다.</br>\n",
    "bool()안의 값이 `0` 이거나 `비어있는 경우` `False`로 출력된다.</br>\n",
    "</br>\n",
    "값이 있는지, 없는지에 해당하는 `0` 과 `비어있는` 상태를 생각해서 구분하면 좋다.</br>"
   ]
  },
  {
   "cell_type": "code",
   "execution_count": 88,
   "metadata": {},
   "outputs": [
    {
     "data": {
      "text/plain": [
       "True"
      ]
     },
     "execution_count": 88,
     "metadata": {},
     "output_type": "execute_result"
    }
   ],
   "source": [
    "bool('true') # true라고 적혀있지만, 글자로 입력된 값이다. (true와 True는 완전 다른 값이다.)"
   ]
  },
  {
   "cell_type": "code",
   "execution_count": 89,
   "metadata": {},
   "outputs": [
    {
     "data": {
      "text/plain": [
       "True"
      ]
     },
     "execution_count": 89,
     "metadata": {},
     "output_type": "execute_result"
    }
   ],
   "source": [
    "bool(' ')"
   ]
  },
  {
   "cell_type": "code",
   "execution_count": 90,
   "metadata": {},
   "outputs": [
    {
     "data": {
      "text/plain": [
       "False"
      ]
     },
     "execution_count": 90,
     "metadata": {},
     "output_type": "execute_result"
    }
   ],
   "source": [
    "bool('')"
   ]
  },
  {
   "cell_type": "code",
   "execution_count": 91,
   "metadata": {},
   "outputs": [
    {
     "data": {
      "text/plain": [
       "False"
      ]
     },
     "execution_count": 91,
     "metadata": {},
     "output_type": "execute_result"
    }
   ],
   "source": [
    "bool(0)"
   ]
  },
  {
   "cell_type": "code",
   "execution_count": 92,
   "metadata": {},
   "outputs": [
    {
     "data": {
      "text/plain": [
       "True"
      ]
     },
     "execution_count": 92,
     "metadata": {},
     "output_type": "execute_result"
    }
   ],
   "source": [
    "bool(-1)"
   ]
  },
  {
   "cell_type": "markdown",
   "metadata": {},
   "source": [
    "## 연산자 종류\n",
    "### 산술 연산자"
   ]
  },
  {
   "cell_type": "code",
   "execution_count": 27,
   "metadata": {},
   "outputs": [
    {
     "name": "stdout",
     "output_type": "stream",
     "text": [
      "7\n",
      "3\n",
      "10\n",
      "2.5\n",
      "1\n",
      "2\n",
      "25\n"
     ]
    }
   ],
   "source": [
    "# + 더하기\n",
    "print(5+2)\n",
    "\n",
    "# - 빼기\n",
    "print(5-2)\n",
    "\n",
    "# * 곱하기\n",
    "print(5*2)\n",
    "\n",
    "# / 나누기\n",
    "print(5/2)\n",
    "\n",
    "# % 나머지\n",
    "print(5%2)\n",
    "\n",
    "# // 몫\n",
    "print(5//2)\n",
    "\n",
    "# ** 제곱\n",
    "print(5**2)"
   ]
  },
  {
   "cell_type": "markdown",
   "metadata": {},
   "source": [
    "변수와 print()를 이용하여 출력해보기"
   ]
  },
  {
   "cell_type": "code",
   "execution_count": 29,
   "metadata": {},
   "outputs": [
    {
     "name": "stdout",
     "output_type": "stream",
     "text": [
      "두 수의 합: 7\n"
     ]
    }
   ],
   "source": [
    "a = 3\n",
    "b = 4\n",
    "\n",
    "# 계산\n",
    "합 = a + b\n",
    "\n",
    "# 프린트\n",
    "print('두 수의 합:', 합)"
   ]
  },
  {
   "cell_type": "markdown",
   "metadata": {},
   "source": [
    "### 미션 1"
   ]
  },
  {
   "cell_type": "code",
   "execution_count": 30,
   "metadata": {},
   "outputs": [
    {
     "name": "stdout",
     "output_type": "stream",
     "text": [
      "합:  7\n",
      "차:  -1\n",
      "곱:  12\n",
      "나눗셈:  0.75\n"
     ]
    }
   ],
   "source": [
    "## 미션 1 - 주어진 변수로 '합', '차', '곱', '나눗셈'의 값을 출력해보기\n",
    "a = 3\n",
    "b = 4\n",
    "\n",
    "print('합: ', a+b)\n",
    "print('차: ', a-b)\n",
    "print('곱: ', a*b)\n",
    "print('나눗셈: ', a/b)"
   ]
  },
  {
   "cell_type": "markdown",
   "metadata": {},
   "source": [
    "### 미션 2"
   ]
  },
  {
   "cell_type": "code",
   "execution_count": 32,
   "metadata": {},
   "outputs": [
    {
     "name": "stdout",
     "output_type": "stream",
     "text": [
      "1 2 3 4\n"
     ]
    }
   ],
   "source": [
    "# 미션 2 - 각 자리값의 수를 도출하는 코드를 작성해주세요.\n",
    "# ( 부끄러운 실력이지만... 일단 문제 풀이를 위해 작성한 코드 )\n",
    "\n",
    "n = 1234\n",
    "\n",
    "d1 = n//1000\n",
    "d2 = (n-1034)//100\n",
    "d3 = (n-1204)//10\n",
    "d4 = n-1230\n",
    "\n",
    "print(d1, d2, d3, d4)"
   ]
  },
  {
   "cell_type": "code",
   "execution_count": 36,
   "metadata": {},
   "outputs": [
    {
     "name": "stdout",
     "output_type": "stream",
     "text": [
      "1 2 3 4\n"
     ]
    }
   ],
   "source": [
    "# 미션 2 - 다른 사람의 깔끔한 코드\n",
    "# ( 이 코드를 보며 기본적인 수학을 다시 공부할 필요가 있다고 생각했음 )\n",
    "\n",
    "n = 1234\n",
    "\n",
    "d1 = n // 1000 % 10\n",
    "d2 = n // 100 % 10\n",
    "d3 = n // 10 % 10\n",
    "d4 = n // 1 % 10\n",
    "\n",
    "print(d1, d2, d3, d4)"
   ]
  },
  {
   "cell_type": "markdown",
   "metadata": {},
   "source": [
    "### 업그레이드 미션 1"
   ]
  },
  {
   "cell_type": "code",
   "execution_count": 55,
   "metadata": {},
   "outputs": [
    {
     "name": "stdout",
     "output_type": "stream",
     "text": [
      "123456.0\n"
     ]
    }
   ],
   "source": [
    "# 업그레이드 미션 1 - 100미만 숫자를 절사처리 해주세요\n",
    "pay = 12345678 # 12345678원 \n",
    "\n",
    "d1 = (pay-78)/100\n",
    "\n",
    "print(d1)"
   ]
  },
  {
   "cell_type": "code",
   "execution_count": 54,
   "metadata": {},
   "outputs": [
    {
     "name": "stdout",
     "output_type": "stream",
     "text": [
      "123456.0\n"
     ]
    }
   ],
   "source": [
    "# 업그레이드 미션 1\n",
    "# ( 2025-01-01 방금 정리하면서 다시 풀어봤음...! )\n",
    "\n",
    "pay = 12345678\n",
    "\n",
    "d1 = ( pay-( ( (pay // 10 % 10) * 10) + (pay // 1 % 10) ) ) * 0.01\n",
    "\n",
    "print(d1)"
   ]
  },
  {
   "cell_type": "markdown",
   "metadata": {},
   "source": [
    "### 업그레이드 미션 2"
   ]
  },
  {
   "cell_type": "code",
   "execution_count": 61,
   "metadata": {},
   "outputs": [],
   "source": [
    "# 업그레이드미션 2  \n",
    "# Todo: 변수 a에 저장된 값의 b자리 값을 계산하여 변수 c에 저장하는 코드를 설계하라  \n",
    "# 예를 들어 a에 1234가 저장되어 있고 b가 1일 경우 첫 번째 자리값인 4가 c에 저장된다.  \n",
    "# a가 1234일때 b가 4일 경우는 4번째 자리값인 1이 c에 저장되어야 한다.\n",
    "\n",
    "# 나는 못 풀었음"
   ]
  },
  {
   "cell_type": "code",
   "execution_count": 62,
   "metadata": {},
   "outputs": [
    {
     "name": "stdout",
     "output_type": "stream",
     "text": [
      "4\n"
     ]
    }
   ],
   "source": [
    "# 업그레이드미션 2 - 다른분 풀이\n",
    "\n",
    "a = 1234\n",
    "b = 1\n",
    "\n",
    "c = (a%10**b)//10**(b-1)\n",
    "# b가 2였을 경우....\n",
    "# 설명-1: 10**b = 100 /→/ a%10**b = 58 |이어서| (b-1) = 1 /→/ 10**(b-1) = 10\n",
    "# 설명-2: 58//10 = 5 (// = 몫 구하기)\n",
    "\n",
    "\n",
    "print(c)"
   ]
  },
  {
   "cell_type": "markdown",
   "metadata": {},
   "source": [
    "### Bool 연산자"
   ]
  },
  {
   "cell_type": "code",
   "execution_count": 63,
   "metadata": {},
   "outputs": [
    {
     "name": "stdout",
     "output_type": "stream",
     "text": [
      "False\n",
      "True\n",
      "False\n",
      "True\n"
     ]
    }
   ],
   "source": [
    "print(5 == 2)\n",
    "print(5 != 2)\n",
    "print(5 < 2)\n",
    "print(5 > 2)"
   ]
  },
  {
   "cell_type": "code",
   "execution_count": 64,
   "metadata": {},
   "outputs": [
    {
     "name": "stdout",
     "output_type": "stream",
     "text": [
      "True\n",
      "True\n",
      "False\n"
     ]
    }
   ],
   "source": [
    "print(bool(5 and 6))\n",
    "print(bool(5 or 6))\n",
    "print(bool(not 6))"
   ]
  },
  {
   "cell_type": "markdown",
   "metadata": {},
   "source": [
    "#### 점심 탈출 미션"
   ]
  },
  {
   "cell_type": "code",
   "execution_count": 65,
   "metadata": {},
   "outputs": [
    {
     "name": "stdout",
     "output_type": "stream",
     "text": [
      "True\n",
      "True\n",
      "False\n"
     ]
    }
   ],
   "source": [
    "# 점심 탈출 미션\n",
    "print( (3 < 5) and (3 > 0) )\n",
    "print( (4 < 7) or (5 > 8) )\n",
    "print( not(5 < 9))"
   ]
  },
  {
   "cell_type": "markdown",
   "metadata": {},
   "source": [
    "앞에서부터 조건을 봤을 때 식 전체의 결과가 결정되면 뒤는 계산하지 않고</br>바로 결과를 반환하는 방식을 Short Circuit Evaluation이라고 하는데,</br>대부분의 프로그래밍 언어에서 이 평가 방식을 사용합니다.</br>\n",
    "[참고 링크-1](https://chayan-memorias.tistory.com/153), [참고 링크-2](https://yahwang.github.io/posts/55), [참고 링크-3](https://webheck.tistory.com/entry/Python-%EB%85%BC%EB%A6%AC-%EC%97%B0%EC%82%B0%EC%9D%98-%EB%8B%A8%EB%9D%BD-%ED%8F%89%EA%B0%80-short-circuit-evaluation)\n",
    "</br></br></br>\n",
    "단락 평가 방식(Short-circuit evaluation): AND와 OR에서는 첫 번째 조건의 결과에 따라 두 번째 조건을 확인하지 않아도 결과가 정해진다. 따라서, `두 번째 조건 실행을 하지 않는 것이 효율적`이다."
   ]
  },
  {
   "cell_type": "markdown",
   "metadata": {},
   "source": [
    "## 싱글 쿼테이션 & 더블 쿼테이션"
   ]
  },
  {
   "cell_type": "code",
   "execution_count": 66,
   "metadata": {},
   "outputs": [
    {
     "data": {
      "text/plain": [
       "'Hello'"
      ]
     },
     "execution_count": 66,
     "metadata": {},
     "output_type": "execute_result"
    }
   ],
   "source": [
    "'Hello'"
   ]
  },
  {
   "cell_type": "code",
   "execution_count": 67,
   "metadata": {},
   "outputs": [
    {
     "data": {
      "text/plain": [
       "'Hello'"
      ]
     },
     "execution_count": 67,
     "metadata": {},
     "output_type": "execute_result"
    }
   ],
   "source": [
    "'''Hello'''"
   ]
  },
  {
   "cell_type": "code",
   "execution_count": 68,
   "metadata": {},
   "outputs": [
    {
     "data": {
      "text/plain": [
       "'Hello'"
      ]
     },
     "execution_count": 68,
     "metadata": {},
     "output_type": "execute_result"
    }
   ],
   "source": [
    "\"Hello\""
   ]
  },
  {
   "cell_type": "code",
   "execution_count": 69,
   "metadata": {},
   "outputs": [
    {
     "data": {
      "text/plain": [
       "'Hello'"
      ]
     },
     "execution_count": 69,
     "metadata": {},
     "output_type": "execute_result"
    }
   ],
   "source": [
    "\"\"\"Hello\"\"\""
   ]
  },
  {
   "cell_type": "code",
   "execution_count": 70,
   "metadata": {},
   "outputs": [
    {
     "name": "stdout",
     "output_type": "stream",
     "text": [
      "\n",
      "Hello\n",
      "안녕?\n",
      "    AI 스쿨 강의를\n",
      "듣고있어...!\n",
      "\n"
     ]
    }
   ],
   "source": [
    "multiL = '''\n",
    "Hello\n",
    "안녕?\n",
    "    AI 스쿨 강의를\n",
    "듣고있어...!\n",
    "'''\n",
    "print(multiL)"
   ]
  },
  {
   "cell_type": "markdown",
   "metadata": {},
   "source": [
    "print('') 안에서 단락변경, 탭키를 사용할 때에는 다음을 사용하면 된다.\n",
    "</br>\\n = 이스케이프(단락변경),</br>\\t = 탭(탭키를 누르는 것과 같음)"
   ]
  },
  {
   "cell_type": "code",
   "execution_count": 71,
   "metadata": {},
   "outputs": [
    {
     "name": "stdout",
     "output_type": "stream",
     "text": [
      "Hello \n",
      "안녕? \n",
      "\tAI 스쿨 강의를 \n",
      "듣고있어...!\n"
     ]
    }
   ],
   "source": [
    "print('Hello \\n안녕? \\n\\tAI 스쿨 강의를 \\n듣고있어...!')"
   ]
  },
  {
   "cell_type": "code",
   "execution_count": 72,
   "metadata": {},
   "outputs": [
    {
     "name": "stdout",
     "output_type": "stream",
     "text": [
      "HelloPython\n",
      "HelloHelloHello\n"
     ]
    }
   ],
   "source": [
    "head = 'Hello'\n",
    "tail = 'Python'\n",
    "\n",
    "print(head + tail)\n",
    "print(head * 3)"
   ]
  },
  {
   "cell_type": "markdown",
   "metadata": {},
   "source": [
    "len()은 글자, list의 갯수를 세어준다."
   ]
  },
  {
   "cell_type": "code",
   "execution_count": 73,
   "metadata": {},
   "outputs": [
    {
     "name": "stdout",
     "output_type": "stream",
     "text": [
      "5\n"
     ]
    }
   ],
   "source": [
    "head = 'Hello'\n",
    "tail = 'Python'\n",
    "\n",
    "print(len(head))"
   ]
  },
  {
   "cell_type": "code",
   "execution_count": 74,
   "metadata": {},
   "outputs": [
    {
     "name": "stdout",
     "output_type": "stream",
     "text": [
      "'낮말'은 새가 듣고 '밤말'은 쥐가 듣는다.\n",
      "'낮말'은 새가 듣고 '밤말'은 쥐가 듣는다.\n"
     ]
    }
   ],
   "source": [
    "print('\\'낮말\\'은 새가 듣고 \\'밤말\\'은 쥐가 듣는다.')\n",
    "print(\"'낮말'은 새가 듣고 '밤말'은 쥐가 듣는다.\")"
   ]
  },
  {
   "cell_type": "markdown",
   "metadata": {},
   "source": [
    "## 인덱싱"
   ]
  },
  {
   "cell_type": "code",
   "execution_count": 75,
   "metadata": {},
   "outputs": [
    {
     "name": "stdout",
     "output_type": "stream",
     "text": [
      "t\n"
     ]
    }
   ],
   "source": [
    "s = 'Life is too short'\n",
    "print(s[8])\n",
    "# 대활호 = square bracket"
   ]
  },
  {
   "cell_type": "code",
   "execution_count": 76,
   "metadata": {},
   "outputs": [
    {
     "name": "stdout",
     "output_type": "stream",
     "text": [
      "h\n"
     ]
    }
   ],
   "source": [
    "s = 'Life is too short'\n",
    "print(s[-4])"
   ]
  },
  {
   "cell_type": "markdown",
   "metadata": {},
   "source": [
    "인덱싱 슬라이스는 `0번 인덱스 부터 4번 인덱스 미만까지`로 표시한다."
   ]
  },
  {
   "cell_type": "code",
   "execution_count": 77,
   "metadata": {},
   "outputs": [
    {
     "name": "stdout",
     "output_type": "stream",
     "text": [
      "too\n",
      "too\n"
     ]
    }
   ],
   "source": [
    "s = 'Life is too short'\n",
    "\n",
    "print(s[8:11])\n",
    "print(s[8], s[9], s[10], sep='')"
   ]
  },
  {
   "cell_type": "code",
   "execution_count": 78,
   "metadata": {},
   "outputs": [
    {
     "name": "stdout",
     "output_type": "stream",
     "text": [
      "t\n"
     ]
    }
   ],
   "source": [
    "s = 'Life is too short'\n",
    "\n",
    "print(s[-9])"
   ]
  },
  {
   "cell_type": "code",
   "execution_count": 79,
   "metadata": {},
   "outputs": [
    {
     "name": "stdout",
     "output_type": "stream",
     "text": [
      "Life is \n"
     ]
    }
   ],
   "source": [
    "s = 'Life is too short'\n",
    "\n",
    "# 시작값이 0이라면, 제외해도 된다.\n",
    "print(s[:-9])"
   ]
  },
  {
   "cell_type": "code",
   "execution_count": 80,
   "metadata": {},
   "outputs": [
    {
     "name": "stdout",
     "output_type": "stream",
     "text": [
      "is too short\n"
     ]
    }
   ],
   "source": [
    "s = 'Life is too short'\n",
    "\n",
    "# 시작값부터 맨 끝까지 출력하려면, 제외해도 된다.\n",
    "print(s[5:])"
   ]
  },
  {
   "cell_type": "code",
   "execution_count": 81,
   "metadata": {},
   "outputs": [
    {
     "name": "stdout",
     "output_type": "stream",
     "text": [
      "Life is too short\n"
     ]
    }
   ],
   "source": [
    "s = 'Life is too short'\n",
    "\n",
    "# 전체 출력\n",
    "print(s[:])"
   ]
  },
  {
   "cell_type": "code",
   "execution_count": 82,
   "metadata": {},
   "outputs": [
    {
     "name": "stdout",
     "output_type": "stream",
     "text": [
      "Lf stosot\n"
     ]
    }
   ],
   "source": [
    "s = 'Life is too short'\n",
    "\n",
    "# 두칸씩 점프할래!\n",
    "print(s[::2])"
   ]
  },
  {
   "cell_type": "code",
   "execution_count": 83,
   "metadata": {},
   "outputs": [
    {
     "name": "stdout",
     "output_type": "stream",
     "text": [
      "Lesosr\n"
     ]
    }
   ],
   "source": [
    "s = 'Life is too short'\n",
    "\n",
    "# 세칸씩 점프할래!\n",
    "print(s[::3])"
   ]
  },
  {
   "cell_type": "markdown",
   "metadata": {},
   "source": [
    "### 간단 미션!\n",
    "인덱싱을 사용하여 중복되지 않은 단어 만들어보기!"
   ]
  },
  {
   "cell_type": "code",
   "execution_count": 84,
   "metadata": {},
   "outputs": [
    {
     "name": "stdout",
     "output_type": "stream",
     "text": [
      "one\n"
     ]
    }
   ],
   "source": [
    "s = 'Life is too short, You need Python'\n",
    "\n",
    "print(s[-2:], s[3], sep='')"
   ]
  },
  {
   "cell_type": "code",
   "execution_count": 85,
   "metadata": {},
   "outputs": [
    {
     "name": "stdout",
     "output_type": "stream",
     "text": [
      "Lion\n"
     ]
    }
   ],
   "source": [
    "s = 'Life is too short, You need Python'\n",
    "\n",
    "print(s[:2], s[-2:], sep='')"
   ]
  },
  {
   "cell_type": "markdown",
   "metadata": {},
   "source": [
    "## 변수(심화)"
   ]
  },
  {
   "cell_type": "code",
   "execution_count": 93,
   "metadata": {},
   "outputs": [
    {
     "name": "stdout",
     "output_type": "stream",
     "text": [
      "500\n"
     ]
    }
   ],
   "source": [
    "# 한번 해봤음...\n",
    "a = 100\n",
    "\n",
    "if a == 100:\n",
    "    a = 500\n",
    "\n",
    "print(a)"
   ]
  },
  {
   "cell_type": "markdown",
   "metadata": {},
   "source": [
    "### 사용자 입력 변수"
   ]
  },
  {
   "cell_type": "code",
   "execution_count": 94,
   "metadata": {},
   "outputs": [
    {
     "data": {
      "text/plain": [
       "'hello'"
      ]
     },
     "execution_count": 94,
     "metadata": {},
     "output_type": "execute_result"
    }
   ],
   "source": [
    "input() # 사용자로부터 입력 데이터를 받을 때 까지 기다림"
   ]
  },
  {
   "cell_type": "code",
   "execution_count": 95,
   "metadata": {},
   "outputs": [
    {
     "name": "stdout",
     "output_type": "stream",
     "text": [
      "당신의 이름은 최준일 입니다.\n"
     ]
    }
   ],
   "source": [
    "name = input()\n",
    "\n",
    "print('당신의 이름은 '+name+' 입니다.')"
   ]
  },
  {
   "cell_type": "code",
   "execution_count": 96,
   "metadata": {},
   "outputs": [
    {
     "name": "stdout",
     "output_type": "stream",
     "text": [
      "당신의 이름은 주닐 입니다.\n"
     ]
    }
   ],
   "source": [
    "name = input('이름을 입력하세요: ') # 안내 창에 안내를 해줄 수 있음\n",
    "\n",
    "print('당신의 이름은 '+name+' 입니다.')"
   ]
  },
  {
   "cell_type": "markdown",
   "metadata": {},
   "source": [
    "### 미션 1"
   ]
  },
  {
   "cell_type": "code",
   "execution_count": 97,
   "metadata": {},
   "outputs": [
    {
     "name": "stdout",
     "output_type": "stream",
     "text": [
      "a + b = 300\n"
     ]
    }
   ],
   "source": [
    "## 미션\n",
    "# 사용자로부터 두개의 정수를 입력 받아서\n",
    "# 덧셈을 출력하는 프로그램을 받아주세요.\n",
    "\n",
    "a = int(input())\n",
    "b = int(input())\n",
    "c = a + b\n",
    "\n",
    "print('a + b = ' + str(c))"
   ]
  },
  {
   "cell_type": "markdown",
   "metadata": {},
   "source": [
    "### 업그레이드 미션 1"
   ]
  },
  {
   "cell_type": "code",
   "execution_count": 98,
   "metadata": {},
   "outputs": [
    {
     "name": "stdout",
     "output_type": "stream",
     "text": [
      "삼각형의 넓이는 7900.0 입니다.\n"
     ]
    }
   ],
   "source": [
    "# 업그레이드미션 1 \n",
    "# 삼각형의 넓이 구하기 \n",
    "# 사용자에게 삼각형의 밑변과 높이를 입력 받아  \n",
    "# 삼각형의 넓이를 출력하는 코드를 작성하세요. \n",
    "\n",
    "a = float(input('밑변: '))\n",
    "b = float(input('높이: '))\n",
    "c = (a * b) / 2\n",
    "\n",
    "print('삼각형의 넓이는 ' + str(c) + ' 입니다.')"
   ]
  },
  {
   "cell_type": "markdown",
   "metadata": {},
   "source": [
    "### 업그레이드 미션 2"
   ]
  },
  {
   "cell_type": "code",
   "execution_count": 99,
   "metadata": {},
   "outputs": [
    {
     "name": "stdout",
     "output_type": "stream",
     "text": [
      "- 김밥 주문 갯수: 10\n",
      "- 떡볶이 주문 갯수: 5\n",
      "- 라면 주문 갯수: 3\n",
      "당신이 지불해야 할 값은 55000원 입니다.\n"
     ]
    }
   ],
   "source": [
    "# 업그레이드미션 2 \n",
    "# 분식줍 주문 프로그램 \n",
    "# 메뉴판은 아래와 같다. \n",
    "# 메뉴별 주문 개수를 입력 받아 지불할 금액을 자동으로 계산해주는 프로그램을 작성하시오. \n",
    "\n",
    "# [메뉴판] \n",
    "# 김   밥  : 3,000원 \n",
    "# 떡볶이 : 3,500원 \n",
    "# 라    면 : 2,500원 \n",
    "\n",
    "\n",
    "a = int(input('주문된 김밥 갯수: '))\n",
    "b = int(input('주문된 떡볶이 갯수: '))\n",
    "c = int(input('주문된 라면 갯수: '))\n",
    "\n",
    "d = (a*3000) + (b*3500) + (c*2500)\n",
    "\n",
    "print('- 김밥 주문 갯수: ' + str(a))\n",
    "print('- 떡볶이 주문 갯수: ' + str(b))\n",
    "print('- 라면 주문 갯수: '+ str(c))\n",
    "print('당신이 지불해야 할 값은 '+ str(d) + '원 입니다.')"
   ]
  },
  {
   "cell_type": "markdown",
   "metadata": {},
   "source": [
    "## print()와 서식 지정자 그리고 f-String"
   ]
  },
  {
   "cell_type": "markdown",
   "metadata": {},
   "source": [
    "#### 제어 문자, 이스케이프 시퀀스(escape sequence):\n",
    "- 화면에 출력되지는 않지만 출력 결과를 제어하는 문자\n",
    "- \\(\\, 백슬래시) 뒤에 문자나 숫자가 오는 조합\n",
    "\n",
    "- - \\n (새로운 줄)\n",
    "- - \\t (탭)\n",
    "- - \\' (작은 따옴표 문자)\n",
    "- - \\\" (큰 따옴표 문자)\n",
    "- - \\\\ (백슬래시 문자)"
   ]
  },
  {
   "cell_type": "markdown",
   "metadata": {},
   "source": [
    "#### 출력 형태 - 서식 지정자를 이용하는 형태\n",
    "- 서식 지정자 : % 로 시작하고 자료형을 뜻하는 문자로 구성됨\n",
    "- ' %자료형 ' % (값)\n",
    "\n",
    "- - %d (정수) `289`\n",
    "- - %f (실수) `3.140`\n",
    "- - %s (문자열) `Hello Python`\n",
    "- - %c (문자) `A` - 글자 1글자만\n",
    "- - %x (16진수 = hex) 100 = `64`\n",
    "- - %o (8진수) 100 = `144`\n",
    "- - %e (지수) 100 = `1.000000e+02`"
   ]
  },
  {
   "cell_type": "code",
   "execution_count": 100,
   "metadata": {},
   "outputs": [
    {
     "name": "stdout",
     "output_type": "stream",
     "text": [
      "10.00 * 23.000 = 230.00\n"
     ]
    }
   ],
   "source": [
    "# 두 수를 입력받아 곱 계산\n",
    "# f-string 이용\n",
    "\n",
    "a = float(input('첫 번째 값 입력: '))\n",
    "b = float(input('두 번째 값 입력: '))\n",
    "\n",
    "print(f'{a:.2f} * {b:.3f} = {a*b:,.2f}')\n",
    "# {a:.2f} = a 뒤에 소숫점이 몇 자리 오는지 표시하는 것이다. (무한대로 오는것을 자릿수를 정해서 끊어낼 수 있다.)\n",
    "# 결과의 {a*b:,.2f} 에 ','가 있으면 숫자를 세는데 용이하다."
   ]
  },
  {
   "cell_type": "markdown",
   "metadata": {},
   "source": [
    "![../img/f-string.png](img/f-string.png)"
   ]
  },
  {
   "cell_type": "markdown",
   "metadata": {},
   "source": [
    "### 미션 1"
   ]
  },
  {
   "cell_type": "code",
   "execution_count": 101,
   "metadata": {},
   "outputs": [
    {
     "name": "stdout",
     "output_type": "stream",
     "text": [
      "반지름(입력값) : 157.9(157.9)㎝\n",
      "원의 둘레 : 991.6㎝\n",
      "원의 넓이 : 78,287.8㎠\n"
     ]
    }
   ],
   "source": [
    "## 도전 반지름을 입력 받아, 원의 둘레와 넓이를 계산해보세요.\n",
    "# 반지름 실수값을 입력 받아, 원의 둘레와 넓이 계산\n",
    "# 소숫점 이하 1자리로 표시, 원의 넓이는 천단위 쉼표\n",
    "# f-string 이용\n",
    "\n",
    "#㎠\n",
    "\n",
    "r = float(input(\"반지름 입력(㎝): \"))\n",
    "\n",
    "rr = (r * 2) * 3.14\n",
    "rrr = (r * r) * 3.14\n",
    "\n",
    "# 서식을 사용할때 자동으로 반올림이 됨.\n",
    "print(f'반지름(입력값) : {r:.1f}({r})㎝')\n",
    "print(f'원의 둘레 : {rr:.1f}㎝')\n",
    "print(f'원의 넓이 : {rrr:,.1f}㎠')"
   ]
  },
  {
   "cell_type": "markdown",
   "metadata": {},
   "source": [
    "개인적으로 f-String(에프스트링)이 많이 헷갈린 부분이였는데, 이번 수업을 통해 완벽히 사용할 수 있게 됐다.</br>"
   ]
  },
  {
   "cell_type": "markdown",
   "metadata": {},
   "source": [
    "## 조건문\n",
    "### 조건문 기본"
   ]
  },
  {
   "cell_type": "code",
   "execution_count": 102,
   "metadata": {},
   "outputs": [
    {
     "name": "stdout",
     "output_type": "stream",
     "text": [
      "맛난거 먹기\n"
     ]
    }
   ],
   "source": [
    "# if 조건:\n",
    "#    명령\n",
    "\n",
    "\n",
    "money = True\n",
    "\n",
    "if money:\n",
    "    print('맛난거 먹기')"
   ]
  },
  {
   "cell_type": "code",
   "execution_count": 103,
   "metadata": {},
   "outputs": [
    {
     "name": "stdout",
     "output_type": "stream",
     "text": [
      "True\n",
      "this is test\n",
      "6\n",
      "this is test\n"
     ]
    }
   ],
   "source": [
    "r = 10 > 4\n",
    "print(r)\n",
    "if r:\n",
    "    print('this is test')\n",
    "r = 10 - 4\n",
    "print(r)\n",
    "if r:\n",
    "    print('this is test')"
   ]
  },
  {
   "cell_type": "code",
   "execution_count": 104,
   "metadata": {},
   "outputs": [
    {
     "name": "stdout",
     "output_type": "stream",
     "text": [
      "맛난거 먹기\n",
      "냠냠 맛있다.\n"
     ]
    }
   ],
   "source": [
    "money = 10 - 6\n",
    "\n",
    "if money:\n",
    "    print('맛난거 먹기')\n",
    "\n",
    "else:\n",
    "    print('친구에게 얻어먹기')\n",
    "\n",
    "print('냠냠 맛있다.')"
   ]
  },
  {
   "cell_type": "code",
   "execution_count": 105,
   "metadata": {},
   "outputs": [
    {
     "name": "stdout",
     "output_type": "stream",
     "text": [
      "숫자 3은 홀수 입니다.\n"
     ]
    }
   ],
   "source": [
    "# 홀수 짝수 구분하기\n",
    "num = int(input('숫자를 입력하세요: '))\n",
    "\n",
    "if num % 2: # 2로 나누었을때, 나머지가 0인 것은 짝수이고, 나머지가 1인 것은 홀수\n",
    "    print(f'숫자 {num}은 홀수 입니다.')\n",
    "else:\n",
    "    print(f'숫자 {num}은 짝수 입니다.')"
   ]
  },
  {
   "cell_type": "code",
   "execution_count": 106,
   "metadata": {},
   "outputs": [
    {
     "name": "stdout",
     "output_type": "stream",
     "text": [
      "당신의 학점은 A 입니다.\n"
     ]
    }
   ],
   "source": [
    "score = int(input('당신의 점수는? '))\n",
    "\n",
    "if score >= 90:\n",
    "    print('당신의 학점은 A 입니다.')\n",
    "elif score >= 80:\n",
    "    print('당신의 학점은 B 입니다.')\n",
    "elif score >= 70:\n",
    "    print('당신의 학점은 C 입니다.')\n",
    "elif score >= 60:\n",
    "    print('당신의 학점은 D 입니다.')\n",
    "else:\n",
    "    print('당신의 학점은 F 입니다.')"
   ]
  },
  {
   "cell_type": "code",
   "execution_count": 107,
   "metadata": {},
   "outputs": [
    {
     "name": "stdout",
     "output_type": "stream",
     "text": [
      "\n",
      "출생년도 별 마스크 구매 일자\n",
      "- [월] 1, 6\n",
      "- [화] 2, 7\n",
      "- [수] 3, 8\n",
      "- [목] 4, 9\n",
      "- [금] 5, 0\n",
      "\n",
      "오늘은 화요일이고, \n",
      "당신의 출생년도는 1992년 입니다. \n",
      "마스크 구입이 가능합니다.\n"
     ]
    }
   ],
   "source": [
    "multi = '''\n",
    "출생년도 별 마스크 구매 일자\n",
    "- [월] 1, 6\n",
    "- [화] 2, 7\n",
    "- [수] 3, 8\n",
    "- [목] 4, 9\n",
    "- [금] 5, 0\n",
    "'''\n",
    "d = int(input('당신의 출생년도: '))\n",
    "a = int(input('당신의 나이: '))\n",
    "\n",
    "c = d // 1 % 10\n",
    "\n",
    "print(multi)\n",
    "if a >= 65:\n",
    "\n",
    "    print(f'당신의 출생년도는 {d}년 입니다. 그리고 {a}세 이시므로 언제든지 가능한 분입니다.')\n",
    "\n",
    "else:\n",
    "    if c == 1 or c == 6:\n",
    "        print(f'오늘은 월요일이고, \\n당신의 출생년도는 {d}년 입니다. \\n마스크 구입이 가능합니다.')\n",
    "    elif c == 2 or c ==  7:\n",
    "        print(f'오늘은 화요일이고, \\n당신의 출생년도는 {d}년 입니다. \\n마스크 구입이 가능합니다.')\n",
    "    elif c == 3 or c ==  8:\n",
    "        print(f'오늘은 수요일이고, \\n당신의 출생년도는 {d}년 입니다. \\n마스크 구입이 가능합니다.')\n",
    "    elif c == 4 or c ==  9:\n",
    "        print(f'오늘은 목요일이고, \\n당신의 출생년도는 {d}년 입니다. \\n마스크 구입이 가능합니다.')\n",
    "    elif c == 5 or c ==  0:\n",
    "        print(f'오늘은 금요일이고, \\n당신의 출생년도는 {d}년 입니다. \\n마스크 구입이 가능합니다.')\n",
    "\n"
   ]
  },
  {
   "cell_type": "code",
   "execution_count": 108,
   "metadata": {},
   "outputs": [
    {
     "name": "stdout",
     "output_type": "stream",
     "text": [
      "화\n"
     ]
    }
   ],
   "source": [
    "# 19차 5번 김기덕님 코드\n",
    "year = int(input('당신의 출생년도: '))\n",
    "age = int(input('당신의 나이: '))\n",
    "\n",
    "if age >= 65:\n",
    "    print('언제든지 가능')\n",
    "elif year%5==0:\n",
    "    print('금')\n",
    "elif year%4==1:\n",
    "    print('월')\n",
    "elif year%5==2:\n",
    "    print('화')\n",
    "elif year%5==3:\n",
    "    print('수')\n",
    "elif year%5==4:\n",
    "    print('목')"
   ]
  },
  {
   "cell_type": "code",
   "execution_count": 109,
   "metadata": {},
   "outputs": [
    {
     "name": "stdout",
     "output_type": "stream",
     "text": [
      "오늘 : 12일\n",
      "차량번호: 7846\n",
      "짝수 차량 운행날 입니다.\n",
      "운행 가능 합니다.\n"
     ]
    }
   ],
   "source": [
    "d = int(input('오늘은 몇 일?(입력: 1 ~ 31): '))\n",
    "n = int(input('차량번호 4자리 입력(예: 1234): '))\n",
    "\n",
    "u = n % 2\n",
    "l = d % 2\n",
    "\n",
    "\n",
    "if d > 31 and d > 0:\n",
    "    print('일(day) 입력 오류입니다. 1 ~ 31일 사이로 입력바랍니다.')\n",
    "\n",
    "else:\n",
    "    if len(str(n)) != 4:\n",
    "        print(f'차량번호 입력 오류입니다. ({n})')\n",
    "\n",
    "    else:\n",
    "        print(f'오늘 : {d}일')\n",
    "        print(f'차량번호: {n}')\n",
    "        if l == 0:\n",
    "            print('짝수 차량 운행날 입니다.')\n",
    "            if u == 0:\n",
    "                print('운행 가능 합니다.')\n",
    "            else:\n",
    "                print('운행 불가능 합니다.')\n",
    "\n",
    "        elif l == 1:\n",
    "            print('홀수 차량 운행날 입니다.')\n",
    "            if u == 1:\n",
    "                print('운행 가능 합니다.')\n",
    "            else:\n",
    "                print('운행 불가능 합니다.')\n"
   ]
  },
  {
   "cell_type": "markdown",
   "metadata": {},
   "source": []
  },
  {
   "cell_type": "code",
   "execution_count": 110,
   "metadata": {},
   "outputs": [
    {
     "name": "stdout",
     "output_type": "stream",
     "text": [
      "키: 185\n",
      "몸무게: 75\n",
      "당신의 BMI는 \"21.91\"이며, 당신은 \"정상체중\"입니다.\n"
     ]
    }
   ],
   "source": [
    "h = int(input('당신의 키: '))\n",
    "kg = int(input('당신의 몸무게: '))\n",
    "\n",
    "f = (kg/(h*h))*10000\n",
    "\n",
    "if f >= 25.0:\n",
    "    v = '비만'\n",
    "elif f >= 23.0:\n",
    "    v = '과체중'\n",
    "elif f >= 18.5:\n",
    "    v = '정상체중'\n",
    "else:\n",
    "    v = '저체중'\n",
    "\n",
    "print(f'키: {h}\\n몸무게: {kg}\\n당신의 BMI는 \"{f:.2f}\"이며, 당신은 \"{v}\"입니다.')\n"
   ]
  }
 ],
 "metadata": {
  "kernelspec": {
   "display_name": "ms_ai_school",
   "language": "python",
   "name": "python3"
  },
  "language_info": {
   "codemirror_mode": {
    "name": "ipython",
    "version": 3
   },
   "file_extension": ".py",
   "mimetype": "text/x-python",
   "name": "python",
   "nbconvert_exporter": "python",
   "pygments_lexer": "ipython3",
   "version": "3.13.1"
  }
 },
 "nbformat": 4,
 "nbformat_minor": 2
}
