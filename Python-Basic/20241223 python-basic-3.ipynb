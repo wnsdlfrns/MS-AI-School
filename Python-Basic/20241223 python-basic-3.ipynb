{
 "cells": [
  {
   "cell_type": "markdown",
   "metadata": {},
   "source": [
    "# 파이썬 기본 문법 (3)\n",
    "`2024년 12월 23일`"
   ]
  },
  {
   "cell_type": "markdown",
   "metadata": {},
   "source": [
    "## 복습하기"
   ]
  },
  {
   "cell_type": "code",
   "execution_count": 1,
   "metadata": {},
   "outputs": [
    {
     "name": "stdout",
     "output_type": "stream",
     "text": [
      "2 4 6 8 10 12 14 16 "
     ]
    }
   ],
   "source": [
    "## 구구한 출력 - 1\n",
    "\n",
    "for i in range(1, 9):\n",
    "    print(f'{2*i}', end=' ')"
   ]
  },
  {
   "cell_type": "code",
   "execution_count": 2,
   "metadata": {},
   "outputs": [
    {
     "name": "stdout",
     "output_type": "stream",
     "text": [
      "  2\t  3\t  4\t  5\t  6\t  7\t  8\t  9\t\n",
      "  4\t  6\t  8\t 10\t 12\t 14\t 16\t 18\t\n",
      "  6\t  9\t 12\t 15\t 18\t 21\t 24\t 27\t\n",
      "  8\t 12\t 16\t 20\t 24\t 28\t 32\t 36\t\n",
      " 10\t 15\t 20\t 25\t 30\t 35\t 40\t 45\t\n",
      " 12\t 18\t 24\t 30\t 36\t 42\t 48\t 54\t\n",
      " 14\t 21\t 28\t 35\t 42\t 49\t 56\t 63\t\n",
      " 16\t 24\t 32\t 40\t 48\t 56\t 64\t 72\t\n",
      " 18\t 27\t 36\t 45\t 54\t 63\t 72\t 81\t\n"
     ]
    }
   ],
   "source": [
    "## 구구한 출력 - 2\n",
    "\n",
    "for i in range(1, 10):\n",
    "    for j in range(2, 10):\n",
    "        print(f'{j*i:>3}', end='\\t')\n",
    "    print()"
   ]
  },
  {
   "cell_type": "code",
   "execution_count": 3,
   "metadata": {},
   "outputs": [
    {
     "name": "stdout",
     "output_type": "stream",
     "text": [
      "주문하신 커피가 나왔습니다! 주문하신 커피가 나왔습니다! 거스름돈 20원\n",
      "넣은 돈: 1원 | 커피 가격: 300원 | 299원이 부족합니다!\n",
      "주문하신 커피가 나왔습니다! 거스름돈 200원\n",
      "커피가 모두 소진되었습니다! 이용해주셔서 감사합니다!\n"
     ]
    }
   ],
   "source": [
    "## while 문으로 자판기 - 1\n",
    "\n",
    "coffes = 3\n",
    "\n",
    "while True:\n",
    "    in_money = int(input())\n",
    "    if in_money >= 300:\n",
    "        coffes -= 1\n",
    "        print(f'주문하신 커피가 나왔습니다!', end=' ')\n",
    "        if in_money - 300 > 0:\n",
    "            print(f'거스름돈 {in_money - 300}원')\n",
    "        if coffes == 0:\n",
    "            print(f'커피가 모두 소진되었습니다! 이용해주셔서 감사합니다!')\n",
    "            break\n",
    "        continue\n",
    "    else:\n",
    "        print(f'넣은 돈: {in_money}원 | 커피 가격: 300원 | {300 - in_money}원이 부족합니다!')\n",
    "        continue"
   ]
  },
  {
   "cell_type": "code",
   "execution_count": null,
   "metadata": {},
   "outputs": [],
   "source": [
    "## while 문으로 자판기 - 2 / 이현령님 코딩\n",
    "\n",
    "coffes = 3\n",
    "price = 300\n",
    "\n",
    "while coffes: # <- coffes 커피 갯수가 '0'이 아닌 경우 = 모두 True 인 점을 이용\n",
    "    print(f'남은 커피: {coffes}잔\\n가격: {price}원')\n",
    "    in_money = int(input('돈을 넣어주세요!'))\n",
    "    if in_money >= price:\n",
    "        coffes -= 1\n",
    "        change = in_money - price\n",
    "        print(f'주문하신 커피가 나왔습니다!', end=' ')\n",
    "        if change: # <- change 거스름돈이 '0'이 아닌 경우 = 모두 True 인 점을 이용\n",
    "            print(f'거스름돈 {change}원')\n",
    "    else:\n",
    "        print(f'넣은 돈: {in_money}원 | 커피 가격: {price}원 | {price - in_money}원이 부족합니다!')\n",
    "\n",
    "print(f'커피가 모두 소진되었습니다! 이용해주셔서 감사합니다!')"
   ]
  },
  {
   "cell_type": "markdown",
   "metadata": {},
   "source": [
    "이현령님 설명:</br>\n",
    "`if <표현식>:`, `while <표현식>:`에서 `<표현식>` 부분이</br>`bool 타입`이 아니라면 `실행 중에 bool타입으로 변환`된다고 생각하면 좋습니다.\n",
    "\n",
    "예를 들어 `stock == 10`일 때 </br>\n",
    "`if stock: --> if 10: --> if True:`과 같이 평가됩니다.\n",
    " \n",
    "`stock == 0`일 때에는 </br>\n",
    "`if stock: --> if 0: --> if False:`와 같이 평가됩니다!\n",
    "</br>\n",
    "</br>\n",
    "- `stock`이 양수이며 실행 중에 줄어든다고 가정할 때,</br>\n",
    " \n",
    "`if bool(stock):` : 이렇게 작성할 필요는 없습니다!</br>\n",
    " \n",
    "`if stock != 0:` : 이것도 굳이 이렇게 쓸 필요가 없지만,</br>자신이 읽기 편하다면 이렇게 쓰는 것이 좋습니다.</br>\n",
    " \n",
    "`if stock > 0:` : 이건 기존 코드와는 완전히 다릅니다.</br>만약 stock이 1씩 줄어들지 않는다면 stock이 음수가 될 수도 있습니다.</br>이 경우에는 `stock == 0`인 순간을 건너뛸 수 있기 때문에 종료 조건에 걸리지 않습니다.</br>즉 무한 루프에 빠질 수 있습니다. 부등호는 안전하게 이런 경우를 처리하게 도와줍니다."
   ]
  },
  {
   "cell_type": "markdown",
   "metadata": {},
   "source": [
    "커피 텍스트 작성</br></br>커피는 10잔</br>가격은 300</br></br>커피가 남아있는 동안:</br>&nbsp;&nbsp;&nbsp;&nbsp;돈 입력받아</br></br>&nbsp;&nbsp;&nbsp;&nbsp;돈 많아 부자야:</br>&nbsp;&nbsp;&nbsp;&nbsp;&nbsp;&nbsp;&nbsp;&nbsp;커피 팔아</br>&nbsp;&nbsp;&nbsp;&nbsp;&nbsp;&nbsp;&nbsp;&nbsp;거스름돈 줘</br>&nbsp;&nbsp;&nbsp;&nbsp;아니면:</br>&nbsp;&nbsp;&nbsp;&nbsp;&nbsp;&nbsp;&nbsp;&nbsp; 커피 안 팔아</br>&nbsp;&nbsp;&nbsp;&nbsp;&nbsp;&nbsp;&nbsp;&nbsp;돈 그냥 돌려줘버려"
   ]
  },
  {
   "cell_type": "markdown",
   "metadata": {},
   "source": [
    "## 딕셔너리(dictionary)\n",
    "- `순서가 없는 컬렉션 자료형`으로 각각의 요소는 `{키:값}`의 형태로 저장된다."
   ]
  },
  {
   "cell_type": "code",
   "execution_count": 4,
   "metadata": {},
   "outputs": [
    {
     "name": "stdout",
     "output_type": "stream",
     "text": [
      "<class 'dict'>\n"
     ]
    }
   ],
   "source": [
    "menu = {'김밥':2000, '라면':3000, '돈까스':5000}\n",
    "\n",
    "print(type(menu))"
   ]
  },
  {
   "cell_type": "code",
   "execution_count": 5,
   "metadata": {},
   "outputs": [
    {
     "name": "stdout",
     "output_type": "stream",
     "text": [
      "{'김밥': 2500, '라면': 3000, '돈까스': 5000}\n"
     ]
    }
   ],
   "source": [
    "menu = {'김밥':2000, '라면':3000, '돈까스':5000}\n",
    "\n",
    "menu['김밥'] = 2500\n",
    "\n",
    "print(menu)"
   ]
  },
  {
   "cell_type": "code",
   "execution_count": 6,
   "metadata": {},
   "outputs": [
    {
     "name": "stdout",
     "output_type": "stream",
     "text": [
      "{'김밥': 2500, '라면': 3000, '돈까스': 5000, '떡볶이': 3000}\n"
     ]
    }
   ],
   "source": [
    "menu = {'김밥':2000, '라면':3000, '돈까스':5000}\n",
    "\n",
    "menu['김밥'] = 2500\n",
    "menu['떡볶이'] = 3000\n",
    "\n",
    "print(menu)"
   ]
  },
  {
   "cell_type": "markdown",
   "metadata": {},
   "source": [
    "딕셔너리에 해당 키 값을 가진 값에 값을 연산하는 경우 경우, 키 값이 없기 때문에 오류를 일으킴. ↓"
   ]
  },
  {
   "cell_type": "code",
   "execution_count": 7,
   "metadata": {},
   "outputs": [
    {
     "ename": "KeyError",
     "evalue": "'로제떡볶이'",
     "output_type": "error",
     "traceback": [
      "\u001b[1;31m---------------------------------------------------------------------------\u001b[0m",
      "\u001b[1;31mKeyError\u001b[0m                                  Traceback (most recent call last)",
      "Cell \u001b[1;32mIn[7], line 3\u001b[0m\n\u001b[0;32m      1\u001b[0m menu \u001b[38;5;241m=\u001b[39m {\u001b[38;5;124m'\u001b[39m\u001b[38;5;124m김밥\u001b[39m\u001b[38;5;124m'\u001b[39m:\u001b[38;5;241m2000\u001b[39m, \u001b[38;5;124m'\u001b[39m\u001b[38;5;124m라면\u001b[39m\u001b[38;5;124m'\u001b[39m:\u001b[38;5;241m3000\u001b[39m, \u001b[38;5;124m'\u001b[39m\u001b[38;5;124m돈까스\u001b[39m\u001b[38;5;124m'\u001b[39m:\u001b[38;5;241m5000\u001b[39m}\n\u001b[1;32m----> 3\u001b[0m \u001b[43mmenu\u001b[49m\u001b[43m[\u001b[49m\u001b[38;5;124;43m'\u001b[39;49m\u001b[38;5;124;43m로제떡볶이\u001b[39;49m\u001b[38;5;124;43m'\u001b[39;49m\u001b[43m]\u001b[49m \u001b[38;5;241m+\u001b[39m\u001b[38;5;241m=\u001b[39m \u001b[38;5;241m3000\u001b[39m\n\u001b[0;32m      5\u001b[0m \u001b[38;5;28mprint\u001b[39m(menu)\n",
      "\u001b[1;31mKeyError\u001b[0m: '로제떡볶이'"
     ]
    }
   ],
   "source": [
    "menu = {'김밥':2000, '라면':3000, '돈까스':5000}\n",
    "\n",
    "menu['로제떡볶이'] += 3000\n",
    "\n",
    "print(menu)"
   ]
  },
  {
   "cell_type": "code",
   "execution_count": 8,
   "metadata": {},
   "outputs": [
    {
     "name": "stdout",
     "output_type": "stream",
     "text": [
      "{'김밥': 2000, '라면': 3000, '돈까스': 5000, '로제떡볶이': 4500}\n"
     ]
    }
   ],
   "source": [
    "menu = {'김밥':2000, '라면':3000, '돈까스':5000}\n",
    "\n",
    "menu['로제떡볶이'] = 3000\n",
    "menu['로제떡볶이'] += 1500\n",
    "\n",
    "print(menu)"
   ]
  },
  {
   "cell_type": "markdown",
   "metadata": {},
   "source": [
    "### 딕셔너리 조작 함수"
   ]
  },
  {
   "cell_type": "markdown",
   "metadata": {},
   "source": [
    "#### dic.keys()\n",
    "딕셔너리의 key에 해당하는 목록을 출력해준다. 딕셔너리의 key 값은 index와 같은 값이다."
   ]
  },
  {
   "cell_type": "code",
   "execution_count": 9,
   "metadata": {},
   "outputs": [
    {
     "data": {
      "text/plain": [
       "dict_keys(['김밥', '라면', '돈까스'])"
      ]
     },
     "execution_count": 9,
     "metadata": {},
     "output_type": "execute_result"
    }
   ],
   "source": [
    "menu = {'김밥':2000, '라면':3000, '돈까스':5000}\n",
    "\n",
    "menu.keys()"
   ]
  },
  {
   "cell_type": "code",
   "execution_count": 3,
   "metadata": {},
   "outputs": [
    {
     "name": "stdout",
     "output_type": "stream",
     "text": [
      "김밥\n",
      "라면\n",
      "돈까스\n"
     ]
    }
   ],
   "source": [
    "menu = {'김밥':2000, '라면':3000, '돈까스':5000}\n",
    "\n",
    "for m in menu.keys():\n",
    "    print(m)"
   ]
  },
  {
   "cell_type": "markdown",
   "metadata": {},
   "source": [
    "#### dic.values()\n",
    "딕셔너리의 values에 해당하는 목록을 출력해준다. values 값은 데이터 값이라고 보면 좋다."
   ]
  },
  {
   "cell_type": "code",
   "execution_count": 1,
   "metadata": {},
   "outputs": [
    {
     "data": {
      "text/plain": [
       "dict_values([2000, 3000, 5000])"
      ]
     },
     "execution_count": 1,
     "metadata": {},
     "output_type": "execute_result"
    }
   ],
   "source": [
    "menu = {'김밥':2000, '라면':3000, '돈까스':5000}\n",
    "\n",
    "menu.values()"
   ]
  },
  {
   "cell_type": "code",
   "execution_count": 4,
   "metadata": {},
   "outputs": [
    {
     "name": "stdout",
     "output_type": "stream",
     "text": [
      "2000\n",
      "3000\n",
      "5000\n"
     ]
    }
   ],
   "source": [
    "menu = {'김밥':2000, '라면':3000, '돈까스':5000}\n",
    "\n",
    "for m in menu.values():\n",
    "    print(m)"
   ]
  },
  {
   "cell_type": "markdown",
   "metadata": {},
   "source": [
    "#### dic.items()\n",
    "튜플의 형태로 제공되는데, `(key, value)`의 형태로 제공된다.</br>\n",
    "주로 raw data 값이 변경되면 안될때 사용한다."
   ]
  },
  {
   "cell_type": "code",
   "execution_count": 2,
   "metadata": {},
   "outputs": [
    {
     "data": {
      "text/plain": [
       "dict_items([('김밥', 2000), ('라면', 3000), ('돈까스', 5000)])"
      ]
     },
     "execution_count": 2,
     "metadata": {},
     "output_type": "execute_result"
    }
   ],
   "source": [
    "menu = {'김밥':2000, '라면':3000, '돈까스':5000}\n",
    "\n",
    "menu.items() # 튜플의 형태로 제공됨"
   ]
  },
  {
   "cell_type": "markdown",
   "metadata": {},
   "source": [
    "#### dic.pop()\n",
    "딕셔너리에서 값을 추출 + 삭제한다. 추출이 필요하다면, 반드시 변수에 할당해주어야 한다.</br>\n",
    "아니면 삭제가되니 이점도 주의해야한다."
   ]
  },
  {
   "cell_type": "code",
   "execution_count": 7,
   "metadata": {},
   "outputs": [
    {
     "name": "stdout",
     "output_type": "stream",
     "text": [
      "2000\n",
      "dict_items([('라면', 3000), ('돈까스', 5000)])\n"
     ]
    }
   ],
   "source": [
    "menu = {'김밥':2000, '라면':3000, '돈까스':5000}\n",
    "\n",
    "poped = menu.pop('김밥')\n",
    "\n",
    "print(poped)\n",
    "print(menu.items())"
   ]
  },
  {
   "cell_type": "code",
   "execution_count": 8,
   "metadata": {},
   "outputs": [
    {
     "name": "stdout",
     "output_type": "stream",
     "text": [
      "== 방법-1\n",
      "김밥 → 2000\n",
      "라면 → 3000\n",
      "돈까스 → 5000\n",
      "\n",
      "\n",
      "== 방법-2 : keys() 함수이용\n",
      "김밥 → 2000\n",
      "라면 → 3000\n",
      "돈까스 → 5000\n",
      "\n",
      "\n",
      "== 방법-3 : items() 함수이용\n",
      "김밥 → 2000\n",
      "라면 → 3000\n",
      "돈까스 → 5000\n",
      "\n",
      "\n"
     ]
    }
   ],
   "source": [
    "menu = {'김밥':2000, '라면':3000, '돈까스':5000}\n",
    "\n",
    "# 방법 1\n",
    "print('== 방법-1')\n",
    "for i in menu:\n",
    "    print(f'{i} → {menu[i]}', end='\\n')\n",
    "print('\\n')\n",
    "\n",
    "# 방법 2\n",
    "print('== 방법-2 : keys() 함수이용')\n",
    "for i in menu.keys():\n",
    "    print(f'{i} → {menu[i]}', end='\\n')\n",
    "print('\\n')\n",
    "\n",
    "# 방법 3\n",
    "print('== 방법-3 : items() 함수이용')\n",
    "for key, value in menu.items(): # key, value ← 언패킹\n",
    "    print(f'{key} → {value}', end='\\n')\n",
    "print('\\n')"
   ]
  },
  {
   "cell_type": "markdown",
   "metadata": {},
   "source": [
    "#### get()\n",
    "딕셔너리의 항목에 접근하고 value를 꺼내는 메소드이다.</br>\n",
    "다음과 같이 딕셔너리에 없는 키값을 불러내면 오류가 발생한다.</br>\n",
    "그래서 사용할 수 있는 메소드가 get()이다.</br>\n",
    "get() 메소드는 키값에 해당하는 데이터가 없다면 `None = Null`을 반환하며, 오류가 없다."
   ]
  },
  {
   "cell_type": "code",
   "execution_count": 9,
   "metadata": {},
   "outputs": [
    {
     "ename": "KeyError",
     "evalue": "'참치김밥'",
     "output_type": "error",
     "traceback": [
      "\u001b[1;31m---------------------------------------------------------------------------\u001b[0m",
      "\u001b[1;31mKeyError\u001b[0m                                  Traceback (most recent call last)",
      "Cell \u001b[1;32mIn[9], line 3\u001b[0m\n\u001b[0;32m      1\u001b[0m menu \u001b[38;5;241m=\u001b[39m {\u001b[38;5;124m'\u001b[39m\u001b[38;5;124m김밥\u001b[39m\u001b[38;5;124m'\u001b[39m:\u001b[38;5;241m2000\u001b[39m, \u001b[38;5;124m'\u001b[39m\u001b[38;5;124m라면\u001b[39m\u001b[38;5;124m'\u001b[39m:\u001b[38;5;241m3000\u001b[39m, \u001b[38;5;124m'\u001b[39m\u001b[38;5;124m돈까스\u001b[39m\u001b[38;5;124m'\u001b[39m:\u001b[38;5;241m5000\u001b[39m}\n\u001b[1;32m----> 3\u001b[0m \u001b[43mmenu\u001b[49m\u001b[43m[\u001b[49m\u001b[38;5;124;43m'\u001b[39;49m\u001b[38;5;124;43m참치김밥\u001b[39;49m\u001b[38;5;124;43m'\u001b[39;49m\u001b[43m]\u001b[49m\n",
      "\u001b[1;31mKeyError\u001b[0m: '참치김밥'"
     ]
    }
   ],
   "source": [
    "menu = {'김밥':2000, '라면':3000, '돈까스':5000}\n",
    "\n",
    "menu['참치김밥']"
   ]
  },
  {
   "cell_type": "code",
   "execution_count": 10,
   "metadata": {},
   "outputs": [
    {
     "name": "stdout",
     "output_type": "stream",
     "text": [
      "None 2000\n"
     ]
    }
   ],
   "source": [
    "print(menu.get('참치김밥'), menu.get('김밥')) # None = Null = false 이라는 값을 줌. 에러는 발생시키지 않는다."
   ]
  },
  {
   "cell_type": "markdown",
   "metadata": {},
   "source": [
    "#### 딕셔너리 메소드들\n",
    "- get() : 항목 접근하기 [ `딕셔너리.get(key)` ]\n",
    "- pop() : 항목 꺼내고 삭제하기 [ `딕셔너리.pop(key)` ]\n",
    "- del() : 항목 삭제하기 [ `del(딕셔너리[key])` ]\n",
    "- items() : 딕셔너리에 저장된 모든 항목 [ `딕셔너리.items()` ]\n",
    "- keys() : 딕셔너리에 저장된 키 [ `딕셔너리.keys()` ]\n",
    "- values() : 딕셔너리에 저장된 값 [ `딕셔너리.values()` ]"
   ]
  },
  {
   "cell_type": "code",
   "execution_count": 20,
   "metadata": {},
   "outputs": [
    {
     "name": "stdout",
     "output_type": "stream",
     "text": [
      "- junil-2님의 연락처는 010-1234-9876 입니다.\n",
      "- junil-3님의 연락처는 010-1234-9876 입니다.\n",
      "- junil-4님의 연락처는 010-1234-9876 입니다.\n"
     ]
    }
   ],
   "source": [
    "addr_list = [{'name':'junil-2', 'phone':'010-1234-9876', 'addr':'서울시'},\n",
    "             {'name':'junil-3', 'phone':'010-1234-9876', 'addr':'서울시'},\n",
    "             {'name':'junil-4', 'phone':'010-1234-9876', 'addr':'서울시'},]\n",
    "\n",
    "for target in addr_list:\n",
    "\n",
    "    name = target['name']\n",
    "    phone = target['phone']\n",
    "\n",
    "    print(f'- {name}님의 연락처는 {phone} 입니다.')"
   ]
  },
  {
   "cell_type": "markdown",
   "metadata": {},
   "source": [
    "## To-Do 리스트"
   ]
  },
  {
   "cell_type": "code",
   "execution_count": null,
   "metadata": {},
   "outputs": [],
   "source": [
    "## To-Do 리스트\n",
    "\n",
    "todo_list = []\n",
    "\n",
    "\n",
    "while True:\n",
    "    print('▶ 메뉴 선택(1: 추가, 2:삭제, 0:종료)')\n",
    "    print('* 메뉴 번호를 입력해주세요.')\n",
    "\n",
    "    in_num = int(input('메뉴를 선택해주세요.'))\n",
    "\n",
    "    if in_num == 0:\n",
    "        print('* 프로그램을 종료합니다.')\n",
    "        break\n",
    "    elif in_num == 2:\n",
    "        if todo_list:\n",
    "            print('[ 삭제할 목록을 선택해주세요. ]')\n",
    "            print(f'{'*'*11}')\n",
    "            for i in range(0, len(todo_list)):\n",
    "                print(f'- {i}. {todo_list[i]}')\n",
    "            print(f'{'*'*11}')\n",
    "        else:\n",
    "            print('* 목록이 없습니다! 먼저 목록을 추가 후 이용해주세요!')\n",
    "            print()\n",
    "            continue\n",
    "        d = int(input('삭제할 항목 번호 입력: '))\n",
    "        if c < d or c < 0:\n",
    "            print('* 해당하는 번호는 목록에 없는 번호 입니다.')\n",
    "            print()\n",
    "            continue\n",
    "        del todo_list[d]\n",
    "        print('* 목록에서 삭제하였습니다.')\n",
    "\n",
    "\n",
    "    elif in_num == 1:\n",
    "        print('* 해야할 일을 입력해주세요.')\n",
    "        f = str(input('해야할 일: '))\n",
    "        todo_list.append(f)\n",
    "        print('+ 목록에 추가되었습니다!')\n",
    "\n",
    "    else:\n",
    "        print('* 없는 메뉴 번호 입니다!')\n",
    "        continue\n",
    "\n",
    "    print()\n",
    "    print('[ To-Do List ]')\n",
    "    print(f'{'*'*11}')\n",
    "    for i in range(0, len(todo_list)):\n",
    "        print(f'- {i}. {todo_list[i]}')\n",
    "    print(f'{'*'*11}')\n",
    "    continue\n",
    "\n"
   ]
  },
  {
   "cell_type": "markdown",
   "metadata": {},
   "source": [
    "## 전화번호부"
   ]
  },
  {
   "cell_type": "code",
   "execution_count": null,
   "metadata": {},
   "outputs": [],
   "source": [
    "## 전화번호부\n",
    "\n",
    "dics =  {}\n",
    "\n",
    "print('▶ 메뉴 선택(1: 추가, 2:검색, 0:종료)')\n",
    "print('* 메뉴 번호를 입력해주세요.')\n",
    "while True:\n",
    "\n",
    "    in_num = int(input('메뉴를 선택해주세요.'))\n",
    "\n",
    "    if in_num == 0:\n",
    "        print('* 프로그램을 종료합니다.')\n",
    "        break\n",
    "    elif in_num == 1:\n",
    "    \n",
    "        print('\\t등록할 이름을 알려주세요!')\n",
    "        name = str(input('등록할 이름: '))\n",
    "        print('\\t등록할 번호를 입력해주세요!')\n",
    "        phone = str(input('등록할 번호: '))\n",
    "        print('* 전화번호부를 등록하였습니다!')\n",
    "\n",
    "        dics[name] = phone\n",
    "\n",
    "    elif in_num == 2:\n",
    "        if dics:\n",
    "            print(f'검색 가능한 친구들: {list(dics.keys())}')\n",
    "\n",
    "        else:\n",
    "            print('등록된 전화번호가 없습니다!')\n",
    "            continue\n",
    "        \n",
    "        cho = str(input('이름을 입력해주세요.:'))\n",
    "\n",
    "        if cho in dics:\n",
    "            print(f'{cho}의 연락처: {dics.get(cho)}')\n",
    "\n",
    "\n",
    "\n",
    "    else:\n",
    "        continue\n",
    "\n",
    "    if dics:\n",
    "        print(f'검색 가능한 친구들: {list(dics.keys())}')\n",
    "\n",
    "    continue\n"
   ]
  },
  {
   "cell_type": "markdown",
   "metadata": {},
   "source": [
    "## 딕셔너리 업그레이드 미션 - 파이썬 용어 사전"
   ]
  },
  {
   "cell_type": "code",
   "execution_count": 21,
   "metadata": {},
   "outputs": [
    {
     "name": "stdout",
     "output_type": "stream",
     "text": [
      "[파이썬 용어 사전]\n",
      "* python, loop\n",
      "종료!\n"
     ]
    }
   ],
   "source": [
    "## 딕셔너리 업그레이드 미션\n",
    "dics = {'python':'a high-level programming language', 'loop':'a sequence of instructions that are continually repeated'}\n",
    "\n",
    "print('[파이썬 용어 사전]')\n",
    "print('* python, loop')\n",
    "while True:\n",
    "    search = str(input('용어 검색: '))\n",
    "    if search == '종료' or search == '':\n",
    "        print('종료!')\n",
    "        break\n",
    "    elif search in dics:\n",
    "        print(f'=== {search}: {dics[search]}')\n",
    "    else:\n",
    "        print(f'\"{search}\"는 사전에 없는 단어예요!')\n",
    "\n",
    "\n",
    "\n"
   ]
  },
  {
   "cell_type": "markdown",
   "metadata": {},
   "source": [
    "## 리스트 + 딕셔너리 업그레이드 미션"
   ]
  },
  {
   "cell_type": "code",
   "execution_count": 22,
   "metadata": {},
   "outputs": [
    {
     "name": "stdout",
     "output_type": "stream",
     "text": [
      "{'name': 'Alice', 'score': [90, 85, 92]}\n",
      "{'name': 'Bob', 'score': [78, 80, 88]}\n",
      "{'name': 'Charlie', 'score': [95, 92, 89]}\n"
     ]
    }
   ],
   "source": [
    "## 리스트 + 딕셔너리 업그레이드 미션\n",
    "grades = [{'name':'Alice', 'score':[90, 85, 92]},\n",
    "          {'name':'Bob', 'score':[78, 80, 88]},\n",
    "          {'name':'Charlie', 'score':[95, 92, 89]}]\n",
    "\n",
    "\n",
    "for i in range(0, len(grades)):\n",
    "    print(grades[i])\n"
   ]
  },
  {
   "cell_type": "code",
   "execution_count": 23,
   "metadata": {},
   "outputs": [
    {
     "name": "stdout",
     "output_type": "stream",
     "text": [
      "Alice 평균: 89.0점\n",
      "Bob 평균: 82.0점\n",
      "Charlie 평균: 92.0점\n",
      "\n",
      "전체 평균: 87.67점\n",
      "\n",
      "90점 이상인 학생 명단: ['Alice', 'Charlie']\n"
     ]
    }
   ],
   "source": [
    "## 리스트 + 딕셔너리 업그레이드 미션\n",
    "grades = [{'name':'Alice', 'score':[90, 85, 92]},\n",
    "          {'name':'Bob', 'score':[78, 80, 88]},\n",
    "          {'name':'Charlie', 'score':[95, 92, 89]}]\n",
    "\n",
    "over = []\n",
    "totals = 0\n",
    "\n",
    "for i in range(0, len(grades)):\n",
    "    name = grades[i].get('name')\n",
    "    total_m = sum(grades[i].get('score'))/len(grades[i]['score'])\n",
    "    print(f'{name} 평균: {total_m}점')\n",
    "\n",
    "    totals += total_m\n",
    "\n",
    "    for j in range(0, len(grades[i]['score'])):\n",
    "        if grades[i]['score'][j] >= 90:\n",
    "            check = True\n",
    "\n",
    "    if check:\n",
    "        check = False\n",
    "        over.append(name)\n",
    "\n",
    "totals = totals/len(grades)\n",
    "\n",
    "print(f'\\n전체 평균: {totals:.2f}점\\n\\n90점 이상인 학생 명단: {over}')\n",
    "\n"
   ]
  },
  {
   "cell_type": "code",
   "execution_count": 24,
   "metadata": {},
   "outputs": [
    {
     "name": "stdout",
     "output_type": "stream",
     "text": [
      "Alice 평균: 89.0\n",
      "Bob 평균: 82.0\n",
      "Charlie 평균: 92.0\n",
      "\n",
      "전체 평균: 87.66666666666667\n",
      "\n",
      "90점 이상인 점수가 하나라도 있는 학생: ['Alice', 'Charlie']\n"
     ]
    }
   ],
   "source": [
    "## 이현령님 코드\n",
    "students = {\n",
    "    'Alice':[90, 85, 92],\n",
    "    'Bob':[78, 80, 88],\n",
    "    'Charlie':[95, 92, 89]\n",
    "}\n",
    "\n",
    "total_sum = 0\n",
    "total_len = 0\n",
    "\n",
    "best_students = []\n",
    "\n",
    "for name, scores in students.items():\n",
    "    sum_ = sum(scores)\n",
    "    len_ = len(scores)\n",
    "    total_sum += sum_\n",
    "    total_len += len_\n",
    "\n",
    "    avg = sum_ / len_\n",
    "\n",
    "    print(f'{name} 평균: {avg}')\n",
    "\n",
    "    if any(score >= 90 for score in scores):\n",
    "        best_students.append(name)\n",
    "\n",
    "print(f'\\n전체 평균: {total_sum/total_len}')\n",
    "print(f'\\n90점 이상인 점수가 하나라도 있는 학생: {best_students}')"
   ]
  },
  {
   "cell_type": "markdown",
   "metadata": {},
   "source": [
    "## 튜플 자료형 (immutable)\n",
    "- 리스트와 마찬가지로 여러데이터를 하나로 묶어 저장하는 자료의 집합\n",
    "- 인덱싱과 슬라이싱 가능\n",
    "- 초기화 후 편집 불가\n",
    "- 소괄호 사이에 각각의 요소를 컴마(,)로 구분"
   ]
  },
  {
   "cell_type": "code",
   "execution_count": 25,
   "metadata": {},
   "outputs": [
    {
     "name": "stdout",
     "output_type": "stream",
     "text": [
      "<class 'tuple'>\n"
     ]
    }
   ],
   "source": [
    "tuple1 = ()\n",
    "\n",
    "print(type(tuple1))"
   ]
  },
  {
   "cell_type": "code",
   "execution_count": 26,
   "metadata": {},
   "outputs": [
    {
     "name": "stdout",
     "output_type": "stream",
     "text": [
      "<class 'int'>\n"
     ]
    }
   ],
   "source": [
    "tuple2 = 1\n",
    "\n",
    "print(type(tuple2))"
   ]
  },
  {
   "cell_type": "code",
   "execution_count": 27,
   "metadata": {},
   "outputs": [
    {
     "name": "stdout",
     "output_type": "stream",
     "text": [
      "<class 'tuple'>\n"
     ]
    }
   ],
   "source": [
    "tuple3 = 1,\n",
    "\n",
    "print(type(tuple3))"
   ]
  },
  {
   "cell_type": "code",
   "execution_count": 28,
   "metadata": {},
   "outputs": [
    {
     "name": "stdout",
     "output_type": "stream",
     "text": [
      "<class 'tuple'>\n"
     ]
    }
   ],
   "source": [
    "tuple4 = (1,)\n",
    "\n",
    "print(type(tuple4))"
   ]
  },
  {
   "cell_type": "code",
   "execution_count": 29,
   "metadata": {},
   "outputs": [
    {
     "name": "stdout",
     "output_type": "stream",
     "text": [
      "<class 'tuple'>\n"
     ]
    }
   ],
   "source": [
    "tuple5 = 1, 2, 3\n",
    "\n",
    "print(type(tuple5))"
   ]
  },
  {
   "cell_type": "code",
   "execution_count": 30,
   "metadata": {},
   "outputs": [
    {
     "name": "stdout",
     "output_type": "stream",
     "text": [
      "cd\n"
     ]
    }
   ],
   "source": [
    "tuple6 = ('a', 1, ('ab', 'cd'))\n",
    "\n",
    "print(tuple6[2][1])"
   ]
  },
  {
   "cell_type": "markdown",
   "metadata": {},
   "source": [
    "### 튜플의 특징\n",
    "튜플은 자료형 중에 수정도 안되고 삭제도 안되는데, 이는 raw Data를 훼손시키지 않게하기 위함이다."
   ]
  },
  {
   "cell_type": "code",
   "execution_count": 31,
   "metadata": {},
   "outputs": [
    {
     "ename": "TypeError",
     "evalue": "'tuple' object does not support item assignment",
     "output_type": "error",
     "traceback": [
      "\u001b[1;31m---------------------------------------------------------------------------\u001b[0m",
      "\u001b[1;31mTypeError\u001b[0m                                 Traceback (most recent call last)",
      "Cell \u001b[1;32mIn[31], line 3\u001b[0m\n\u001b[0;32m      1\u001b[0m tuple6 \u001b[38;5;241m=\u001b[39m (\u001b[38;5;124m'\u001b[39m\u001b[38;5;124ma\u001b[39m\u001b[38;5;124m'\u001b[39m, \u001b[38;5;241m1\u001b[39m, (\u001b[38;5;124m'\u001b[39m\u001b[38;5;124mab\u001b[39m\u001b[38;5;124m'\u001b[39m, \u001b[38;5;124m'\u001b[39m\u001b[38;5;124mcd\u001b[39m\u001b[38;5;124m'\u001b[39m))\n\u001b[1;32m----> 3\u001b[0m \u001b[43mtuple6\u001b[49m\u001b[43m[\u001b[49m\u001b[38;5;241;43m0\u001b[39;49m\u001b[43m]\u001b[49m \u001b[38;5;241m=\u001b[39m \u001b[38;5;124m'\u001b[39m\u001b[38;5;124mc\u001b[39m\u001b[38;5;124m'\u001b[39m\n",
      "\u001b[1;31mTypeError\u001b[0m: 'tuple' object does not support item assignment"
     ]
    }
   ],
   "source": [
    "tuple6 = ('a', 1, ('ab', 'cd'))\n",
    "\n",
    "tuple6[0] = 'c'"
   ]
  },
  {
   "cell_type": "code",
   "execution_count": 32,
   "metadata": {},
   "outputs": [
    {
     "ename": "TypeError",
     "evalue": "'tuple' object doesn't support item deletion",
     "output_type": "error",
     "traceback": [
      "\u001b[1;31m---------------------------------------------------------------------------\u001b[0m",
      "\u001b[1;31mTypeError\u001b[0m                                 Traceback (most recent call last)",
      "Cell \u001b[1;32mIn[32], line 3\u001b[0m\n\u001b[0;32m      1\u001b[0m tuple6 \u001b[38;5;241m=\u001b[39m (\u001b[38;5;124m'\u001b[39m\u001b[38;5;124ma\u001b[39m\u001b[38;5;124m'\u001b[39m, \u001b[38;5;241m1\u001b[39m, (\u001b[38;5;124m'\u001b[39m\u001b[38;5;124mab\u001b[39m\u001b[38;5;124m'\u001b[39m, \u001b[38;5;124m'\u001b[39m\u001b[38;5;124mcd\u001b[39m\u001b[38;5;124m'\u001b[39m))\n\u001b[1;32m----> 3\u001b[0m \u001b[38;5;28;01mdel\u001b[39;00m \u001b[43mtuple6\u001b[49m\u001b[43m[\u001b[49m\u001b[38;5;241;43m0\u001b[39;49m\u001b[43m]\u001b[49m\n",
      "\u001b[1;31mTypeError\u001b[0m: 'tuple' object doesn't support item deletion"
     ]
    }
   ],
   "source": [
    "tuple6 = ('a', 1, ('ab', 'cd'))\n",
    "\n",
    "del tuple6[0]"
   ]
  },
  {
   "cell_type": "markdown",
   "metadata": {},
   "source": [
    "- 튜플은 수정과 삭제가 안되기때문에 데이터 보존을 위해 사용한다. (raw 데이터 같은)\n",
    "- 함수에서 return 타입을 받을때 튜플을 사용한다.\n",
    "</br>\n",
    "</br>\n",
    "시퀀스 자료형: 각각의 요소들이 연속적으로 이어진 자료형</br>\n",
    "→ 리스트, 튜플, range, 문자열</br></br>\n",
    "딕셔너리는 순서가 없어서 시퀀스 자료형은 아니다.</br></br>\n",
    "ragne로 생성된 숫자는 리스트나 튜플로 만들어서 사용가능하다.\n",
    "- list(range(5))     | `[ 0, 1, 2, 3, 4 ]`\n",
    "- tuple(range(1, 6)) | `[ 1, 2, 3, 4, 5 ]`\n",
    "- list(5, 0, -1)     | `[ 5, 4, 3, 2, 1 ]`"
   ]
  },
  {
   "cell_type": "markdown",
   "metadata": {},
   "source": [
    "### 시퀀스(Sequence) 자료형의 공통 기능 - in / not in\n",
    "```\n",
    "'apple' in 'oragne and aplle tree'\n",
    "→ True\n",
    "```\n",
    "```\n",
    "30 not in (1, 2, 3, 4, 5)\n",
    "→ True\n",
    "```\n",
    "```\n",
    "60 in range(100)\n",
    "→ True\n",
    "```"
   ]
  },
  {
   "cell_type": "code",
   "execution_count": 34,
   "metadata": {},
   "outputs": [
    {
     "data": {
      "text/plain": [
       "(1, 2, 3, 4, 5)"
      ]
     },
     "execution_count": 34,
     "metadata": {},
     "output_type": "execute_result"
    }
   ],
   "source": [
    "## 튜플을 새로만드는것이므로 가능하다.\n",
    "(1, 2, 3) + (4, 5)"
   ]
  },
  {
   "cell_type": "code",
   "execution_count": 35,
   "metadata": {},
   "outputs": [
    {
     "data": {
      "text/plain": [
       "(1, 2, 3, 1, 2, 3, 1, 2, 3)"
      ]
     },
     "execution_count": 35,
     "metadata": {},
     "output_type": "execute_result"
    }
   ],
   "source": [
    "(1, 2, 3) * 3"
   ]
  },
  {
   "cell_type": "code",
   "execution_count": 36,
   "metadata": {},
   "outputs": [
    {
     "data": {
      "text/plain": [
       "range(0, 5)"
      ]
     },
     "execution_count": 36,
     "metadata": {},
     "output_type": "execute_result"
    }
   ],
   "source": [
    "# Range 는 자체적으로 시퀀스 자료형은 아니므로\n",
    "# list의 안에 넣어야 시퀀스 자료형이 될 수 있다.\n",
    "range(5)"
   ]
  },
  {
   "cell_type": "code",
   "execution_count": 37,
   "metadata": {},
   "outputs": [
    {
     "data": {
      "text/plain": [
       "range"
      ]
     },
     "execution_count": 37,
     "metadata": {},
     "output_type": "execute_result"
    }
   ],
   "source": [
    "type(range(5))"
   ]
  },
  {
   "cell_type": "code",
   "execution_count": 38,
   "metadata": {},
   "outputs": [
    {
     "data": {
      "text/plain": [
       "[0, 1, 2, 3, 4]"
      ]
     },
     "execution_count": 38,
     "metadata": {},
     "output_type": "execute_result"
    }
   ],
   "source": [
    "list(range(5))"
   ]
  },
  {
   "cell_type": "code",
   "execution_count": 39,
   "metadata": {},
   "outputs": [
    {
     "data": {
      "text/plain": [
       "(0, 1, 2, 3, 4)"
      ]
     },
     "execution_count": 39,
     "metadata": {},
     "output_type": "execute_result"
    }
   ],
   "source": [
    "tuple(range(5))"
   ]
  },
  {
   "cell_type": "markdown",
   "metadata": {},
   "source": [
    "## 과일 바구니"
   ]
  },
  {
   "cell_type": "code",
   "execution_count": 40,
   "metadata": {},
   "outputs": [
    {
     "name": "stdout",
     "output_type": "stream",
     "text": [
      "오답입니다.\n",
      "정답입니다.\n"
     ]
    }
   ],
   "source": [
    "# 과일 바구니 - 1\n",
    "fruit = ['사과', '포도', '홍시']\n",
    "\n",
    "while True:\n",
    "\n",
    "    select = str(input('과일 이름을 알려주세요! '))\n",
    "\n",
    "    if select == '':\n",
    "        break\n",
    "\n",
    "    elif select in fruit:\n",
    "        print('정답입니다.')\n",
    "        continue\n",
    "\n",
    "    print('오답입니다.')\n",
    "\n"
   ]
  },
  {
   "cell_type": "markdown",
   "metadata": {},
   "source": [
    "## 메뉴 검색기"
   ]
  },
  {
   "cell_type": "code",
   "execution_count": 41,
   "metadata": {},
   "outputs": [],
   "source": [
    "# 메뉴\n",
    "menu = {'김밥':2000, '라면':3000, '돈까스':5000}\n",
    "\n",
    "while True:\n",
    "\n",
    "    select = str(input('음식 이름을 적어주세요!'))\n",
    "\n",
    "    if select == '':\n",
    "        break\n",
    "\n",
    "    elif select in menu:\n",
    "        print('있는 메뉴입니다!')\n",
    "        continue\n",
    "\n",
    "    print('없는 메뉴입니다!')"
   ]
  },
  {
   "cell_type": "markdown",
   "metadata": {},
   "source": [
    "## 사용자 정의 함수\n",
    "(함수의 '함'은 상자 함(函)자를 쓴다는 사실... 알고 계셨습니까... 함수 하면 박스부터 그리는 이유가 바로 이름 때문입니다)"
   ]
  },
  {
   "cell_type": "code",
   "execution_count": 42,
   "metadata": {},
   "outputs": [],
   "source": [
    "#\n",
    "# def 함수이름(매개변수):\n",
    "#     수행할 명령어\n",
    "#     retrun 리턴값\n",
    "#"
   ]
  },
  {
   "cell_type": "code",
   "execution_count": 43,
   "metadata": {},
   "outputs": [
    {
     "name": "stdout",
     "output_type": "stream",
     "text": [
      "Hi!\n",
      "<function Hi at 0x000002518DFE9EE0>\n"
     ]
    }
   ],
   "source": [
    "def Hi():\n",
    "    print('Hi!')\n",
    "\n",
    "Hi()\n",
    "\n",
    "print(Hi)"
   ]
  },
  {
   "cell_type": "code",
   "execution_count": 44,
   "metadata": {},
   "outputs": [
    {
     "name": "stdout",
     "output_type": "stream",
     "text": [
      "고양이야 ~ Hi\n"
     ]
    }
   ],
   "source": [
    "def Hi_name(name):\n",
    "    print(f'{name} ~ Hi')\n",
    "\n",
    "Hi_name('고양이야')"
   ]
  },
  {
   "cell_type": "code",
   "execution_count": 45,
   "metadata": {},
   "outputs": [
    {
     "name": "stdout",
     "output_type": "stream",
     "text": [
      "Hi!\n"
     ]
    }
   ],
   "source": [
    "def Hi2():\n",
    "    return 'Hi!'\n",
    "\n",
    "print(f'{Hi2()}')"
   ]
  },
  {
   "cell_type": "code",
   "execution_count": 46,
   "metadata": {},
   "outputs": [
    {
     "name": "stdout",
     "output_type": "stream",
     "text": [
      "7\n"
     ]
    }
   ],
   "source": [
    "# 풀 패키지 형태\n",
    "\n",
    "def add(a, b):\n",
    "    return a + b\n",
    "\n",
    "add_num = add(3, 4)\n",
    "\n",
    "print(f'{add_num}')"
   ]
  },
  {
   "cell_type": "markdown",
   "metadata": {},
   "source": [
    "### 미션"
   ]
  },
  {
   "cell_type": "code",
   "execution_count": 47,
   "metadata": {},
   "outputs": [
    {
     "data": {
      "text/plain": [
       "12"
      ]
     },
     "execution_count": 47,
     "metadata": {},
     "output_type": "execute_result"
    }
   ],
   "source": [
    "## 세개의 숫자를 입력 받아 가장 큰 수를 출력하세요.\n",
    "\n",
    "def num_max(a, b, c):\n",
    "    l = [a, b, c]\n",
    "    for i in l:\n",
    "        if i >= a:\n",
    "            a = i\n",
    "    return a\n",
    "\n",
    "num = num_max(10, 12, 7)\n",
    "num"
   ]
  },
  {
   "cell_type": "code",
   "execution_count": 48,
   "metadata": {},
   "outputs": [
    {
     "data": {
      "text/plain": [
       "24"
      ]
     },
     "execution_count": 48,
     "metadata": {},
     "output_type": "execute_result"
    }
   ],
   "source": [
    "# 함수 업그레이드 문제 - 1\n",
    "def num_min(args):\n",
    "    example = 0\n",
    "    for i in args:\n",
    "        if example == 0:\n",
    "            example = i\n",
    "        if example > i:\n",
    "            example = i\n",
    "    return example\n",
    "\n",
    "testArray = [52, 273, 32, 103, 275, 24, 57]\n",
    "num_min(testArray)"
   ]
  },
  {
   "cell_type": "code",
   "execution_count": 49,
   "metadata": {},
   "outputs": [
    {
     "data": {
      "text/plain": [
       "[2, 10, 12]"
      ]
     },
     "execution_count": 49,
     "metadata": {},
     "output_type": "execute_result"
    }
   ],
   "source": [
    "# 함수 업그레이드 문제 - 2\n",
    "\n",
    "def print_even(args):\n",
    "    l = []\n",
    "    for i in args:\n",
    "        if i%2 == 0:\n",
    "            l.append(i)\n",
    "\n",
    "    return l\n",
    "\n",
    "print_even([1, 3, 2, 10, 12, 11, 15] )"
   ]
  },
  {
   "cell_type": "code",
   "execution_count": 50,
   "metadata": {},
   "outputs": [
    {
     "name": "stdout",
     "output_type": "stream",
     "text": [
      "True\n",
      "False\n",
      "False\n",
      "False\n",
      "True\n",
      "False\n",
      "False\n",
      "False\n",
      "True\n",
      "False\n",
      "False\n",
      "False\n",
      "True\n",
      "False\n",
      "False\n",
      "False\n",
      "True\n",
      "False\n",
      "False\n",
      "False\n",
      "True\n",
      "False\n",
      "False\n",
      "False\n",
      "False\n"
     ]
    }
   ],
   "source": [
    "## 윤년을 확인하는 함수 만들기\n",
    "\n",
    "def isLeapYear(year):\n",
    "    if type(year) != int:\n",
    "        return False\n",
    "    if year%4 == 0 and year%100 != 0 or year%400 == 0:\n",
    "        return True\n",
    "    else:\n",
    "        return False\n",
    "\n",
    "\n",
    "for i in range(2000, 2024):\n",
    "    print(f'{isLeapYear(i)}')\n",
    "\n",
    "print(f'{isLeapYear('고양이')}')\n"
   ]
  },
  {
   "cell_type": "markdown",
   "metadata": {},
   "source": [
    "### 다중 매개변수 받기"
   ]
  },
  {
   "cell_type": "code",
   "execution_count": 51,
   "metadata": {},
   "outputs": [],
   "source": [
    "# 매개변수 앞에 *args '*' <- 이 붙으면 튜플로 매개변수를 받...?\n",
    "def add_many(*args):\n",
    "    return True"
   ]
  },
  {
   "cell_type": "code",
   "execution_count": 52,
   "metadata": {},
   "outputs": [
    {
     "name": "stdout",
     "output_type": "stream",
     "text": [
      "5\n",
      "55\n"
     ]
    }
   ],
   "source": [
    "# 내부적으로 *args가 받는것은 튜플이다.\n",
    "#            ↓ 튜플로 패킹한다는 이야기 '*'\n",
    "def add_many(*args):\n",
    "    result = 0\n",
    "    for i in args:\n",
    "        result += i\n",
    "\n",
    "    return result\n",
    "\n",
    "print(f'{add_many(2, 3)}')\n",
    "print(f'{add_many(1,2,3,4,5,6,7,8,9,10)}')"
   ]
  },
  {
   "cell_type": "markdown",
   "metadata": {},
   "source": [
    "(+ 가변 매개변수를 사용하지 않고 튜플이나 리스트를 매개변수로 전달하더라도</br>전달하는 값의 개수를 상황에 따라 달라지게 할 수 있긴 합니다.</br>가변 매개변수는 이걸 더 깔끔하게 만들어주는 구문이라고 생각하시면 좋을 것 같습니다.)"
   ]
  },
  {
   "cell_type": "code",
   "execution_count": 53,
   "metadata": {},
   "outputs": [],
   "source": [
    "# 일반 변수, 키워드 변수, asterisk를 붙인 변수, double asterisk를 붙인 변수가 모두 있다면,\n",
    "# 키워드 > 일반 > ** 변수 > * 변수 순서로 인식된다.\n",
    "def function(a, b = 0, *args, **kwargs):\n",
    "    print(\"a =\", a)\n",
    "    print(\"b =\", b)\n",
    "    print(\"args = \", args)\n",
    "    print(\"kwargs =\", kwargs)\n",
    "\n",
    "#function(1, 2, 3, b = 4, i = 5)"
   ]
  },
  {
   "cell_type": "code",
   "execution_count": 54,
   "metadata": {},
   "outputs": [
    {
     "name": "stdout",
     "output_type": "stream",
     "text": [
      "120\n",
      "15\n"
     ]
    }
   ],
   "source": [
    "def add_mul_1(sign, *args):\n",
    "    if sign == '*':\n",
    "        result = 1\n",
    "        for i in args:\n",
    "            result *= i\n",
    "    if sign == '+':\n",
    "        result = 0\n",
    "        for i in args:\n",
    "            result += i\n",
    "    return result\n",
    "\n",
    "\n",
    "print(f'{add_mul_1('*', 1, 2, 3, 4, 5)}')\n",
    "print(f'{add_mul_1('+', 1, 2, 3, 4, 5)}')"
   ]
  },
  {
   "cell_type": "code",
   "execution_count": 55,
   "metadata": {},
   "outputs": [
    {
     "name": "stdout",
     "output_type": "stream",
     "text": [
      "120\n",
      "15\n"
     ]
    }
   ],
   "source": [
    "## 매개변수 위치 변경\n",
    "def add_mul_2(*args, sign):\n",
    "    if sign == '*':\n",
    "        result = 1\n",
    "        for i in args:\n",
    "            result *= i\n",
    "    if sign == '+':\n",
    "        result = 0\n",
    "        for i in args:\n",
    "            result += i\n",
    "    return result\n",
    "\n",
    "\n",
    "print(f'{add_mul_2(1, 2, 3, 4, 5, sign='*')}')\n",
    "print(f'{add_mul_2(1, 2, 3, 4, 5, sign='+')}')"
   ]
  },
  {
   "cell_type": "code",
   "execution_count": 56,
   "metadata": {},
   "outputs": [
    {
     "name": "stdout",
     "output_type": "stream",
     "text": [
      "(8, 15)\n",
      "8\n",
      "15\n"
     ]
    }
   ],
   "source": [
    "def add_and_mul(a, b):\n",
    "    return a+b, a*b\n",
    "#             ↑ 튜플로 묶여서 나온다.\n",
    "\n",
    "print(f'{add_and_mul(3, 5)}')\n",
    "\n",
    "# 함수의 튜플로 묶인 리턴 값을 쪼개서 나누는것이 언패킹 이다.\n",
    "result1, result2 = add_and_mul(3, 5)\n",
    "\n",
    "print(f'{result1}\\n{result2}')"
   ]
  },
  {
   "cell_type": "code",
   "execution_count": 57,
   "metadata": {},
   "outputs": [
    {
     "name": "stdout",
     "output_type": "stream",
     "text": [
      "(13, 7, 30, 3)\n",
      "\n",
      "13\n",
      "7\n",
      "30\n",
      "3\n"
     ]
    }
   ],
   "source": [
    "## 두 수를 받아 합, 차, 곱, 몫을 리턴 하는 함수를 만들어주세요.\n",
    "\n",
    "def func(a, b):\n",
    "    return a+b, a-b, a*b, a//b\n",
    "\n",
    "print(f'{func(10, 3)}',end='\\n\\n')\n",
    "\n",
    "print(f'{func(10, 3)[0]}')\n",
    "print(f'{func(10, 3)[1]}')\n",
    "print(f'{func(10, 3)[2]}')\n",
    "print(f'{func(10, 3)[3]}')\n"
   ]
  },
  {
   "cell_type": "code",
   "execution_count": null,
   "metadata": {},
   "outputs": [],
   "source": []
  }
 ],
 "metadata": {
  "kernelspec": {
   "display_name": "ms_ai_school",
   "language": "python",
   "name": "python3"
  },
  "language_info": {
   "codemirror_mode": {
    "name": "ipython",
    "version": 3
   },
   "file_extension": ".py",
   "mimetype": "text/x-python",
   "name": "python",
   "nbconvert_exporter": "python",
   "pygments_lexer": "ipython3",
   "version": "3.13.1"
  }
 },
 "nbformat": 4,
 "nbformat_minor": 2
}
