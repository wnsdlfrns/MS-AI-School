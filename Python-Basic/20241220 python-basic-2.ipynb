{
 "cells": [
  {
   "cell_type": "markdown",
   "metadata": {},
   "source": [
    "# 파이썬 기본 문법 (2)\n",
    "`2024년 12월 20일`"
   ]
  },
  {
   "cell_type": "markdown",
   "metadata": {},
   "source": [
    "## 복습하기"
   ]
  },
  {
   "cell_type": "code",
   "execution_count": 2,
   "metadata": {},
   "outputs": [
    {
     "name": "stdout",
     "output_type": "stream",
     "text": [
      "해리님 안녕하세요?\n",
      "오늘로 12회 방문하셨어요.\n"
     ]
    }
   ],
   "source": [
    "name = str(input('이름을 입력하세요: '))\n",
    "count = int(input('방문 횟수를 입력하세요: '))\n",
    "\n",
    "print(f'{name}님 안녕하세요?\\n오늘로 {count + 1}회 방문하셨어요.')"
   ]
  },
  {
   "cell_type": "markdown",
   "metadata": {},
   "source": [
    "### 인덱싱 기본 문제"
   ]
  },
  {
   "cell_type": "code",
   "execution_count": 3,
   "metadata": {},
   "outputs": [
    {
     "name": "stdout",
     "output_type": "stream",
     "text": [
      "- 성별: 남성\n",
      "- 출생년도: 1995\n",
      "- 월: 10\n",
      "- 일: 13\n",
      "- 뒷자리: 7\n"
     ]
    }
   ],
   "source": [
    "jumin = '951013-1234567'\n",
    "\n",
    "# 항상 상기하자...\n",
    "if jumin[7] == '1' or jumin[7] == '3':\n",
    "    sex = '남성'\n",
    "else:\n",
    "    sex = '여성'\n",
    "\n",
    "if jumin[7] == '3' or jumin[7] ==  '4':\n",
    "    prefix = 20\n",
    "else:\n",
    "    prefix = 19\n",
    "\n",
    "print(f'- 성별: {sex}\\n- 출생년도: {prefix}{jumin[:2]}\\n- 월: {jumin[2:4]}\\n- 일: {jumin[4:6]}\\n- 뒷자리: {jumin[-1:]}')"
   ]
  },
  {
   "cell_type": "markdown",
   "metadata": {},
   "source": [
    "### 인덱싱 업그레이드 문제"
   ]
  },
  {
   "cell_type": "code",
   "execution_count": 4,
   "metadata": {},
   "outputs": [
    {
     "name": "stdout",
     "output_type": "stream",
     "text": [
      "역삼역 도어읽 로꾸거 역삼역 도어읽 로으앞 .다니입역삼역 ,역삼역 은역번이\n"
     ]
    }
   ],
   "source": [
    "string = \"이번역은 역삼역, 역삼역입니다. 앞으로 읽어도 역삼역 거꾸로 읽어도 역삼역\" \n",
    "\n",
    "l = len(string)\n",
    "print(f'{string[:-l-1:-1]}')"
   ]
  },
  {
   "cell_type": "markdown",
   "metadata": {},
   "source": [
    "### 조건문 활용"
   ]
  },
  {
   "cell_type": "code",
   "execution_count": 5,
   "metadata": {},
   "outputs": [
    {
     "name": "stdout",
     "output_type": "stream",
     "text": [
      "로그인 되었습니다!\n"
     ]
    }
   ],
   "source": [
    "id = 'admin'\n",
    "pw = '1234'\n",
    "\n",
    "in_id = str(input('아이디 입력: '))\n",
    "in_pw = str(input('비밀번호 입력: '))\n",
    "\n",
    "if in_id == id:\n",
    "    if in_pw == pw:\n",
    "        print('로그인 되었습니다!')\n",
    "    else:\n",
    "        print('비밀번호가 틀렸습니다!')\n",
    "else:\n",
    "    print('등록된 아이디가 아닙니다!')"
   ]
  },
  {
   "cell_type": "markdown",
   "metadata": {},
   "source": [
    "## 반복문\n",
    "### 반복문의 필요성?\n",
    "- while 반복문: `조건 충족`식 반복문 (= 조건만족 반복)\n",
    "- for 반복문: `횟수 반복`식 반복문 (= 단순 반복)"
   ]
  },
  {
   "cell_type": "markdown",
   "metadata": {},
   "source": [
    "### while 반복문\n",
    "while 반복문은 반드시 `조건`을 충족시키는 식을 넣거나, 무한 반복인 경우 `break`를 통해 탈출을 시킬 수 있어야 한다."
   ]
  },
  {
   "cell_type": "code",
   "execution_count": 6,
   "metadata": {},
   "outputs": [
    {
     "name": "stdout",
     "output_type": "stream",
     "text": [
      "1. Hello Python\n",
      "2. Hello Python\n",
      "3. Hello Python\n",
      "4. Hello Python\n",
      "5. Hello Python\n"
     ]
    }
   ],
   "source": [
    "i = 0\n",
    "while i < 5:\n",
    "    i += 1\n",
    "    print(f'{i}. Hello Python')"
   ]
  },
  {
   "cell_type": "code",
   "execution_count": 7,
   "metadata": {},
   "outputs": [
    {
     "name": "stdout",
     "output_type": "stream",
     "text": [
      "1\n",
      "2\n",
      "3\n",
      "4\n",
      "5\n",
      "6\n",
      "7\n",
      "8\n",
      "9\n",
      "10\n",
      "11\n",
      "12\n",
      "13\n",
      "14\n",
      "15\n",
      "16\n",
      "17\n",
      "18\n",
      "19\n",
      "20\n",
      "1 2 3 4 5 6 7 8 9 10 11 12 13 14 15 16 17 18 19 20\n"
     ]
    }
   ],
   "source": [
    "i = 0\n",
    "p = ''\n",
    "while i < 20:\n",
    "    i += 1\n",
    "    p = p + ' ' + str(i)\n",
    "    print(i)\n",
    "print(p[1:])"
   ]
  },
  {
   "cell_type": "markdown",
   "metadata": {},
   "source": [
    "#### 미션 1"
   ]
  },
  {
   "cell_type": "code",
   "execution_count": 8,
   "metadata": {},
   "outputs": [
    {
     "name": "stdout",
     "output_type": "stream",
     "text": [
      "5,050\n"
     ]
    }
   ],
   "source": [
    "## 정수의 합\n",
    "endValue = int(input('합을 원하는 정수값 입력: '))\n",
    "i = 0\n",
    "r = 0\n",
    "\n",
    "while i < endValue:\n",
    "    i += 1\n",
    "    r += i\n",
    "\n",
    "print(f'{r:,}')"
   ]
  },
  {
   "cell_type": "code",
   "execution_count": 9,
   "metadata": {},
   "outputs": [
    {
     "name": "stdout",
     "output_type": "stream",
     "text": [
      "93,326,215,443,944,152,681,699,238,856,266,700,490,715,968,264,381,621,468,592,963,895,217,599,993,229,915,608,941,463,976,156,518,286,253,697,920,827,223,758,251,185,210,916,864,000,000,000,000,000,000,000,000\n"
     ]
    }
   ],
   "source": [
    "## 정수의 곱\n",
    "endValue = int(input('곱을 원하는 정수값 입력: '))\n",
    "i = 0\n",
    "r = 1\n",
    "\n",
    "while i < endValue:\n",
    "    i += 1\n",
    "    r *= i\n",
    "\n",
    "print(f'{r:,}')"
   ]
  },
  {
   "cell_type": "code",
   "execution_count": 10,
   "metadata": {},
   "outputs": [
    {
     "name": "stdout",
     "output_type": "stream",
     "text": [
      "짝수의 합: 2,550\n",
      "홀수의 합: 2,500\n"
     ]
    }
   ],
   "source": [
    "## 짝수/홀수의 합\n",
    "endValue = int(input('짝수/홀수의 합을 원하는 정수값 입력: '))\n",
    "i = 0\n",
    "r = 0\n",
    "d = 0\n",
    "\n",
    "while i < endValue:\n",
    "    i += 1\n",
    "    if i%2 == 0:\n",
    "        r += i\n",
    "    else:\n",
    "        d += i\n",
    "\n",
    "print(f'짝수의 합: {r:,}\\n홀수의 합: {d:,}')\n"
   ]
  },
  {
   "cell_type": "markdown",
   "metadata": {},
   "source": [
    "while 반복문을 많이 사용하는 이유 중 하나가 `사용자로 부터 여러가지 정보를 받아서`</br>각각의 정보를 반복문을 통해 해결하므로 조건에 만족하면 정지하는 방식으로 많이 사용한다.</br>"
   ]
  },
  {
   "cell_type": "code",
   "execution_count": null,
   "metadata": {},
   "outputs": [],
   "source": [
    "prompt = '''\n",
    "1. Add\n",
    "2. Del\n",
    "3. Quit\n",
    "원하는 옵션을 입력해주세요.: \n",
    "'''\n",
    "\n",
    "in_sel = 0\n",
    "\n",
    "# 횟수가 정해지지 않은 경우\n",
    "while int(in_sel) != 3:\n",
    "    print(prompt)\n",
    "    in_sel = int(input())"
   ]
  },
  {
   "cell_type": "markdown",
   "metadata": {},
   "source": [
    "### For 반복문"
   ]
  },
  {
   "cell_type": "code",
   "execution_count": 11,
   "metadata": {},
   "outputs": [
    {
     "name": "stdout",
     "output_type": "stream",
     "text": [
      "Hello Python\n",
      "Hello Python\n",
      "Hello Python\n",
      "Hello Python\n",
      "Hello Python\n"
     ]
    }
   ],
   "source": [
    "for i in 'hello':\n",
    "    print('Hello Python')"
   ]
  },
  {
   "cell_type": "code",
   "execution_count": 12,
   "metadata": {},
   "outputs": [
    {
     "name": "stdout",
     "output_type": "stream",
     "text": [
      "h\n",
      "e\n",
      "l\n",
      "l\n",
      "o\n"
     ]
    }
   ],
   "source": [
    "for i in 'hello':\n",
    "    print(i)"
   ]
  },
  {
   "cell_type": "code",
   "execution_count": 13,
   "metadata": {},
   "outputs": [
    {
     "name": "stdout",
     "output_type": "stream",
     "text": [
      "1\n",
      "2\n",
      "3\n",
      "4\n",
      "5\n"
     ]
    }
   ],
   "source": [
    "for i in range(1, 6):\n",
    "    print(i)"
   ]
  },
  {
   "cell_type": "code",
   "execution_count": 14,
   "metadata": {},
   "outputs": [
    {
     "name": "stdout",
     "output_type": "stream",
     "text": [
      "1\n",
      "3\n",
      "5\n",
      "7\n",
      "9\n"
     ]
    }
   ],
   "source": [
    "for i in range(1, 11, 2):\n",
    "    print(i)"
   ]
  },
  {
   "cell_type": "code",
   "execution_count": 15,
   "metadata": {},
   "outputs": [],
   "source": [
    "# 마이너스 스텝(카운트)를 할때는 반드시\n",
    "# 시작이 큰수 부터 시작해서 작은 수로 끝내야 작동한다. → 작동안됌\n",
    "for i in range(1, 11, -1):\n",
    "    print(i)"
   ]
  },
  {
   "cell_type": "code",
   "execution_count": 16,
   "metadata": {},
   "outputs": [
    {
     "name": "stdout",
     "output_type": "stream",
     "text": [
      "10\n",
      "9\n",
      "8\n",
      "7\n",
      "6\n",
      "5\n",
      "4\n",
      "3\n",
      "2\n",
      "1\n"
     ]
    }
   ],
   "source": [
    "for i in range(10, 0, -1):\n",
    "    print(i)"
   ]
  },
  {
   "cell_type": "code",
   "execution_count": 17,
   "metadata": {},
   "outputs": [
    {
     "name": "stdout",
     "output_type": "stream",
     "text": [
      "1275\n"
     ]
    }
   ],
   "source": [
    "## 1 부터 받은 정수까지 계산하는 for문 만들기\n",
    "\n",
    "in_num = int(input('정수값: '))\n",
    "r = 0\n",
    "\n",
    "for i in range(1, in_num + 1):\n",
    "    r += i\n",
    "\n",
    "print(r)"
   ]
  },
  {
   "cell_type": "markdown",
   "metadata": {},
   "source": [
    "#### 미션 1"
   ]
  },
  {
   "cell_type": "code",
   "execution_count": 19,
   "metadata": {},
   "outputs": [
    {
     "name": "stdout",
     "output_type": "stream",
     "text": [
      "2 * 1 = 2\n",
      "2 * 2 = 4\n",
      "2 * 3 = 6\n",
      "2 * 4 = 8\n",
      "2 * 5 = 10\n",
      "2 * 6 = 12\n",
      "2 * 7 = 14\n",
      "2 * 8 = 16\n",
      "2 * 9 = 18\n"
     ]
    }
   ],
   "source": [
    "# for 반복문으로 2단 곱셈 표현하기\n",
    "num = 2\n",
    "b = 0\n",
    "for i in range(1, 10):\n",
    "    b = num * i\n",
    "    print(f'{num} * {i} = {b}')"
   ]
  },
  {
   "cell_type": "code",
   "execution_count": 20,
   "metadata": {},
   "outputs": [
    {
     "name": "stdout",
     "output_type": "stream",
     "text": [
      "2 * 1 = 2\n",
      "2 * 2 = 4\n",
      "2 * 3 = 6\n",
      "2 * 4 = 8\n",
      "2 * 5 = 10\n",
      "2 * 6 = 12\n",
      "2 * 7 = 14\n",
      "2 * 8 = 16\n",
      "2 * 9 = 18\n"
     ]
    }
   ],
   "source": [
    "## while 반복문으로 2단 곱셈 표현하기\n",
    "i = 0\n",
    "num = 2\n",
    "b = 0\n",
    "while i < 9:\n",
    "    i += 1\n",
    "    b = num * i\n",
    "    print(f'{num} * {i} = {b}')"
   ]
  },
  {
   "cell_type": "code",
   "execution_count": 21,
   "metadata": {},
   "outputs": [
    {
     "name": "stdout",
     "output_type": "stream",
     "text": [
      "2*1=2\t 3*1=3\t 4*1=4\t 5*1=5\t 6*1=6\t 7*1=7\t 8*1=8\t 9*1=9\n",
      "2*2=4\t 3*2=6\t 4*2=8\t 5*2=10\t 6*2=12\t 7*2=14\t 8*2=16\t 9*2=18\n",
      "2*3=6\t 3*3=9\t 4*3=12\t 5*3=15\t 6*3=18\t 7*3=21\t 8*3=24\t 9*3=27\n",
      "2*4=8\t 3*4=12\t 4*4=16\t 5*4=20\t 6*4=24\t 7*4=28\t 8*4=32\t 9*4=36\n",
      "2*5=10\t 3*5=15\t 4*5=20\t 5*5=25\t 6*5=30\t 7*5=35\t 8*5=40\t 9*5=45\n",
      "2*6=12\t 3*6=18\t 4*6=24\t 5*6=30\t 6*6=36\t 7*6=42\t 8*6=48\t 9*6=54\n",
      "2*7=14\t 3*7=21\t 4*7=28\t 5*7=35\t 6*7=42\t 7*7=49\t 8*7=56\t 9*7=63\n",
      "2*8=16\t 3*8=24\t 4*8=32\t 5*8=40\t 6*8=48\t 7*8=56\t 8*8=64\t 9*8=72\n",
      "2*9=18\t 3*9=27\t 4*9=36\t 5*9=45\t 6*9=54\t 7*9=63\t 8*9=72\t 9*9=81\n",
      "\n"
     ]
    }
   ],
   "source": [
    "## for 문과 while문을 이용해서 2단 부터 9단까지 표현하기\n",
    "a = 9\n",
    "b = 9\n",
    "string = ''\n",
    "for i in range(1, a + 1):\n",
    "    base = 1\n",
    "    while base < b:\n",
    "        base += 1\n",
    "        r = str(f'{base}*{i}={base*i}')\n",
    "        if base < b:\n",
    "            string = string + r + str('\\t ')\n",
    "        else:\n",
    "            string = string + r + str('\\n')\n",
    "\n",
    "print(string)\n"
   ]
  },
  {
   "cell_type": "code",
   "execution_count": 22,
   "metadata": {},
   "outputs": [
    {
     "name": "stdout",
     "output_type": "stream",
     "text": [
      "2*1=2\t3*1=3\t4*1=4\t5*1=5\t6*1=6\t7*1=7\t8*1=8\t9*1=9\t\n",
      "2*2=4\t3*2=6\t4*2=8\t5*2=10\t6*2=12\t7*2=14\t8*2=16\t9*2=18\t\n",
      "2*3=6\t3*3=9\t4*3=12\t5*3=15\t6*3=18\t7*3=21\t8*3=24\t9*3=27\t\n",
      "2*4=8\t3*4=12\t4*4=16\t5*4=20\t6*4=24\t7*4=28\t8*4=32\t9*4=36\t\n",
      "2*5=10\t3*5=15\t4*5=20\t5*5=25\t6*5=30\t7*5=35\t8*5=40\t9*5=45\t\n",
      "2*6=12\t3*6=18\t4*6=24\t5*6=30\t6*6=36\t7*6=42\t8*6=48\t9*6=54\t\n",
      "2*7=14\t3*7=21\t4*7=28\t5*7=35\t6*7=42\t7*7=49\t8*7=56\t9*7=63\t\n",
      "2*8=16\t3*8=24\t4*8=32\t5*8=40\t6*8=48\t7*8=56\t8*8=64\t9*8=72\t\n",
      "2*9=18\t3*9=27\t4*9=36\t5*9=45\t6*9=54\t7*9=63\t8*9=72\t9*9=81\t\n"
     ]
    }
   ],
   "source": [
    "# 다른분들 구구단 출력\n",
    "for i in range(1, 10):\n",
    "    for dan in range(2, 10):\n",
    "        print(f'{dan}*{i}={dan*i}', end='\\t')\n",
    "    print()"
   ]
  },
  {
   "cell_type": "markdown",
   "metadata": {},
   "source": [
    "### break, continue 키워드"
   ]
  },
  {
   "cell_type": "code",
   "execution_count": 25,
   "metadata": {},
   "outputs": [
    {
     "name": "stdout",
     "output_type": "stream",
     "text": [
      "21\n"
     ]
    }
   ],
   "source": [
    "## for 반복문에서 break\n",
    "a = 0\n",
    "for i in range(1, 11):\n",
    "    a += i\n",
    "    if a >= 20:\n",
    "        break\n",
    "print(a)"
   ]
  },
  {
   "cell_type": "code",
   "execution_count": 26,
   "metadata": {},
   "outputs": [
    {
     "name": "stdout",
     "output_type": "stream",
     "text": [
      "1 3 5 7 9 \n",
      "25\n"
     ]
    }
   ],
   "source": [
    "## for 반복문에서 continue\n",
    "a = 0\n",
    "for i in range(1, 11):\n",
    "    if i%2 == 0:\n",
    "        continue # 짝수는 스킵할거야 ↑ 위로 올라가기\n",
    "    print(i, end=' ')\n",
    "    a += i\n",
    "print(f'\\n{a}')"
   ]
  },
  {
   "cell_type": "markdown",
   "metadata": {},
   "source": [
    "#### 숫자 맞추기 게임"
   ]
  },
  {
   "cell_type": "code",
   "execution_count": 27,
   "metadata": {},
   "outputs": [
    {
     "name": "stdout",
     "output_type": "stream",
     "text": [
      "1. 50보다 다운!\n",
      "2. 50보다 다운!\n",
      "3. 25보다 업!\n",
      "4. 25보다 업!\n",
      "5. 45보다 다운!\n",
      "6회 도전해서 정답을 맞추었습니다!\n",
      "- 정답: 35\n"
     ]
    }
   ],
   "source": [
    "import random as r\n",
    "\n",
    "answer = r.randint(1, 100)\n",
    "c = 0\n",
    "\n",
    "while True:\n",
    "    i = int(input('숫자를 입력해주세요.: '))\n",
    "    if i != answer:\n",
    "        c += 1\n",
    "        if answer > i:\n",
    "            print(f'{c}. {i}보다 업!')\n",
    "        elif answer < i:\n",
    "            print(f'{c}. {i}보다 다운!')\n",
    "        continue\n",
    "    c += 1\n",
    "    break\n",
    "\n",
    "print(f'{c:,}회 도전해서 정답을 맞추었습니다!\\n- 정답: {answer}')"
   ]
  },
  {
   "cell_type": "markdown",
   "metadata": {},
   "source": [
    "##### 모드 선택"
   ]
  },
  {
   "cell_type": "code",
   "execution_count": null,
   "metadata": {},
   "outputs": [],
   "source": [
    "\n",
    "import random as r\n",
    "\n",
    "inf = '''\n",
    "[ 게임 선택 ]\n",
    "1. 클래식 (횟수 10회 제한)\n",
    "2. 무제한 모드\n",
    "'''\n",
    "\n",
    "answer = r.randint(1, 100)\n",
    "c = 0\n",
    "limit = 0\n",
    "game_set = 0\n",
    "\n",
    "\n",
    "while True:\n",
    "    print(inf)\n",
    "    game_set = int(input())\n",
    "    while True:\n",
    "        if game_set == 1:\n",
    "\n",
    "            if c == 0:\n",
    "                print(f'[게임 모드: 클래식] 숫자를 입력해주세요!')\n",
    "\n",
    "            limit = 10\n",
    "\n",
    "            if c == limit:\n",
    "                print(f'게임오버! 정답은 {answer}이였습니다.')\n",
    "                break\n",
    "\n",
    "            i = int(input('숫자를 입력해주세요.: '))\n",
    "            if i != answer:\n",
    "                c += 1\n",
    "                if answer > i:\n",
    "                    print(f'{c}. {i}보다 업!')\n",
    "                elif answer < i:\n",
    "                    print(f'{c}. {i}보다 다운!')\n",
    "                continue\n",
    "            c += 1\n",
    "            break\n",
    "\n",
    "        else:\n",
    "            if c == 0:\n",
    "                print(f'[게임 모드: 무제한] 숫자를 입력해주세요!')\n",
    "\n",
    "            i = int(input('숫자를 입력해주세요.: '))\n",
    "\n",
    "            if i != answer:\n",
    "                c += 1\n",
    "                if answer > i:\n",
    "                    print(f'{c}. {i}보다 업!')\n",
    "                elif answer < i:\n",
    "                    print(f'{c}. {i}보다 다운!')\n",
    "                continue\n",
    "            c += 1\n",
    "            break\n",
    "\n",
    "    print(f'{c:,}회 도전해서 정답을 맞추었습니다!\\n- 정답: {answer}')\n",
    "    break\n",
    "\n"
   ]
  },
  {
   "cell_type": "code",
   "execution_count": 28,
   "metadata": {},
   "outputs": [
    {
     "name": "stdout",
     "output_type": "stream",
     "text": [
      "1 2 4 7 8 11 13 14 16 17 19 "
     ]
    }
   ],
   "source": [
    "# while True를 이용하여\n",
    "# 0부터 limit(20)까지 3의 배수와 5의 배수를 제외하고 출력\n",
    "\n",
    "x = 0\n",
    "limit = 20\n",
    "\n",
    "while True:\n",
    "    if x == limit:\n",
    "        break\n",
    "    x += 1\n",
    "    if x%3 == 0 or x%5 == 0:\n",
    "        continue\n",
    "\n",
    "    print(x, end=' ')"
   ]
  },
  {
   "cell_type": "markdown",
   "metadata": {},
   "source": [
    "### 크리스마스 트리 "
   ]
  },
  {
   "cell_type": "code",
   "execution_count": 29,
   "metadata": {},
   "outputs": [
    {
     "name": "stdout",
     "output_type": "stream",
     "text": [
      "*\n",
      "***\n",
      "*****\n",
      "*******\n",
      "*********\n",
      "***********\n",
      "*************\n",
      "***************\n",
      "*****************\n"
     ]
    }
   ],
   "source": [
    "for i in range(1, 10):\n",
    "    for j in range(i):\n",
    "        if j == 0:\n",
    "            print('*', end='')\n",
    "        else:\n",
    "            print('**', end='')\n",
    "    print()"
   ]
  },
  {
   "cell_type": "code",
   "execution_count": 30,
   "metadata": {},
   "outputs": [
    {
     "name": "stdout",
     "output_type": "stream",
     "text": [
      "*****************\n",
      "***************\n",
      "*************\n",
      "***********\n",
      "*********\n",
      "*******\n",
      "*****\n",
      "***\n",
      "*\n"
     ]
    }
   ],
   "source": [
    "for i in range(1, 10):\n",
    "    for j in range(10 - i):\n",
    "        if j == 0:\n",
    "            print('*', end='')\n",
    "        else:\n",
    "            print('**', end='')\n",
    "    print()"
   ]
  },
  {
   "cell_type": "code",
   "execution_count": 31,
   "metadata": {},
   "outputs": [
    {
     "name": "stdout",
     "output_type": "stream",
     "text": [
      "         *\n",
      "        **\n",
      "       ***\n",
      "      ****\n",
      "     *****\n",
      "    ******\n",
      "   *******\n",
      "  ********\n",
      " *********\n"
     ]
    }
   ],
   "source": [
    "for i in range(1, 10):\n",
    "    for j in range(10 - i):\n",
    "        print(' ', end='')\n",
    "    for s in range(i):\n",
    "        print('*', end='')\n",
    "    print()"
   ]
  },
  {
   "cell_type": "code",
   "execution_count": 32,
   "metadata": {},
   "outputs": [
    {
     "name": "stdout",
     "output_type": "stream",
     "text": [
      "        *\n",
      "       ***\n",
      "      *****\n",
      "     *******\n",
      "    *********\n",
      "   ***********\n",
      "  *************\n",
      " ***************\n",
      "*****************\n"
     ]
    }
   ],
   "source": [
    "for i in range(1, 10):\n",
    "    for j in range((10 - 1) - i):\n",
    "        print(' ', end='')\n",
    "    for s in range(2 * i - 1):\n",
    "        print('*', end='')\n",
    "    print()"
   ]
  },
  {
   "cell_type": "markdown",
   "metadata": {},
   "source": [
    "## 자료형\n",
    "### list - 리스트"
   ]
  },
  {
   "cell_type": "code",
   "execution_count": 33,
   "metadata": {},
   "outputs": [
    {
     "name": "stdout",
     "output_type": "stream",
     "text": [
      "<class 'list'>\n"
     ]
    }
   ],
   "source": [
    "a = []\n",
    "\n",
    "print(type(a))"
   ]
  },
  {
   "cell_type": "code",
   "execution_count": 34,
   "metadata": {},
   "outputs": [],
   "source": [
    "a = [1, 2, 3]\n",
    "b = ['Life', 'is', 'too', 'short']\n",
    "c = [1, 'hello']\n",
    "d = [1, 'hello', ['hi', 2]]"
   ]
  },
  {
   "cell_type": "code",
   "execution_count": 35,
   "metadata": {},
   "outputs": [
    {
     "name": "stdout",
     "output_type": "stream",
     "text": [
      "['Life', 'is', 'too', 'short']\n",
      "Life\n",
      "short\n",
      "['is', 'too', 'short']\n",
      "Lite\n"
     ]
    }
   ],
   "source": [
    "a = ['Life', 'is', 'too', 'short']\n",
    "\n",
    "print(a)\n",
    "print(a[0])\n",
    "print(a[-1])\n",
    "print(a[1:])\n",
    "print(a[0][:2] + a[-1][-1] + a[0][-1])"
   ]
  },
  {
   "cell_type": "code",
   "execution_count": 36,
   "metadata": {},
   "outputs": [
    {
     "name": "stdout",
     "output_type": "stream",
     "text": [
      "hi\n"
     ]
    }
   ],
   "source": [
    "a = [1, 'hello', [2, 'hi']]\n",
    "\n",
    "print(a[-1][-1])"
   ]
  },
  {
   "cell_type": "code",
   "execution_count": 37,
   "metadata": {},
   "outputs": [
    {
     "name": "stdout",
     "output_type": "stream",
     "text": [
      "['a', 'b']\n"
     ]
    }
   ],
   "source": [
    "a = [1, 2, 3, ['a', 'b', 'c'], 4, 5]\n",
    "\n",
    "print(a[3][:2])"
   ]
  },
  {
   "cell_type": "code",
   "execution_count": 38,
   "metadata": {},
   "outputs": [
    {
     "name": "stdout",
     "output_type": "stream",
     "text": [
      "[10, 20, 30, 40, 50]\n",
      "[10, 100, 200, 40, 50]\n"
     ]
    }
   ],
   "source": [
    "a = [10, 20, 30, 40, 50]\n",
    "\n",
    "print(a)\n",
    "\n",
    "a[1:3] = [100, 200]\n",
    "\n",
    "print(a)"
   ]
  },
  {
   "cell_type": "code",
   "execution_count": 39,
   "metadata": {},
   "outputs": [
    {
     "name": "stdout",
     "output_type": "stream",
     "text": [
      "['apple', 'banana']\n",
      "['apple', 'banana', 'cherry']\n"
     ]
    }
   ],
   "source": [
    "f = ['apple', 'banana']\n",
    "print(f)\n",
    "f.append('cherry')\n",
    "print(f)"
   ]
  },
  {
   "cell_type": "code",
   "execution_count": 40,
   "metadata": {},
   "outputs": [
    {
     "name": "stdout",
     "output_type": "stream",
     "text": [
      "['apple', 'banana']\n",
      "['apple', 'mango', 'banana']\n"
     ]
    }
   ],
   "source": [
    "f = ['apple', 'banana']\n",
    "print(f)\n",
    "f.insert(1, 'mango')\n",
    "print(f)"
   ]
  },
  {
   "cell_type": "code",
   "execution_count": 41,
   "metadata": {},
   "outputs": [
    {
     "name": "stdout",
     "output_type": "stream",
     "text": [
      "['apple', 'banana']\n",
      "['apple', 'mango', 'banana']\n",
      "['apple', 'banana']\n"
     ]
    }
   ],
   "source": [
    "f = ['apple', 'banana']\n",
    "print(f)\n",
    "f.insert(1, 'mango')\n",
    "print(f)\n",
    "f.pop(1)\n",
    "print(f)"
   ]
  },
  {
   "cell_type": "code",
   "execution_count": 42,
   "metadata": {},
   "outputs": [
    {
     "name": "stdout",
     "output_type": "stream",
     "text": [
      "[100, 50, 250, 40, 10, 150, 34]\n",
      "[10, 34, 40, 50, 100, 150, 250]\n"
     ]
    }
   ],
   "source": [
    "i = [100, 50, 250, 40, 10, 150, 34]\n",
    "print(i)\n",
    "i.sort()\n",
    "print(i)"
   ]
  },
  {
   "cell_type": "code",
   "execution_count": 43,
   "metadata": {},
   "outputs": [
    {
     "name": "stdout",
     "output_type": "stream",
     "text": [
      "[100, 50, 250, 40, 10, 150, 34]\n",
      "[250, 150, 100, 50, 40, 34, 10]\n"
     ]
    }
   ],
   "source": [
    "i = [100, 50, 250, 40, 10, 150, 34]\n",
    "print(i)\n",
    "i.sort(reverse=True)\n",
    "print(i)"
   ]
  },
  {
   "cell_type": "code",
   "execution_count": 44,
   "metadata": {},
   "outputs": [
    {
     "name": "stdout",
     "output_type": "stream",
     "text": [
      "[100, 50, 250, 40, 10, 150, 34]\n",
      "[10, 34, 40, 50, 100, 150, 250]\n"
     ]
    }
   ],
   "source": [
    "i = [100, 50, 250, 40, 10, 150, 34]\n",
    "print(i)\n",
    "i.sort(reverse=True)\n",
    "i.reverse()\n",
    "print(i)"
   ]
  },
  {
   "cell_type": "code",
   "execution_count": 47,
   "metadata": {},
   "outputs": [
    {
     "data": {
      "text/plain": [
       "634"
      ]
     },
     "execution_count": 47,
     "metadata": {},
     "output_type": "execute_result"
    }
   ],
   "source": [
    "## 리스트\n",
    "i = [100, 50, 250, 40, 10, 150, 34]\n",
    "i.count(50)\n",
    "sum(i)"
   ]
  },
  {
   "cell_type": "code",
   "execution_count": 46,
   "metadata": {},
   "outputs": [
    {
     "name": "stdout",
     "output_type": "stream",
     "text": [
      "65\n"
     ]
    }
   ],
   "source": [
    "score = [100, 50, 30, 50, 80,50, 90, 70]\n",
    "x = sum(score) / len(score)\n",
    "print(f'{x:.0f}')"
   ]
  },
  {
   "cell_type": "code",
   "execution_count": 48,
   "metadata": {},
   "outputs": [
    {
     "name": "stdout",
     "output_type": "stream",
     "text": [
      "1번 학생은 합격입니다.\n",
      "2번 학생은 불합격입니다.\n",
      "3번 학생은 합격입니다.\n",
      "4번 학생은 불합격입니다.\n",
      "5번 학생은 합격입니다.\n"
     ]
    }
   ],
   "source": [
    "##\n",
    "marks = [90, 25, 67, 45, 80]\n",
    "n = 0\n",
    "\n",
    "for i in marks:\n",
    "    n += 1\n",
    "    if i < 60:\n",
    "        fi = '불합격'\n",
    "    else:\n",
    "        fi = '합격'\n",
    "\n",
    "    print(f'{n}번 학생은 {fi}입니다.')"
   ]
  },
  {
   "cell_type": "markdown",
   "metadata": {},
   "source": [
    "## 과일 가계 업그레이드 미션"
   ]
  },
  {
   "cell_type": "code",
   "execution_count": 49,
   "metadata": {},
   "outputs": [
    {
     "name": "stdout",
     "output_type": "stream",
     "text": [
      "판매하는 과일: ['사과', '바나나', '오렌지', '포도', '수박']\n",
      "현재 재고: [3, 3, 3, 3, 3]\n",
      "어떤 과일을 구매하시겠습니까?\n",
      "(종료하려면 \"그만\"을 입력하세요)\n",
      "\n",
      "사과을(를) 구매하셨습니다! 남은 사과의 재고: 2개\n",
      "현재 재고: [2, 3, 3, 3, 3]\n",
      "또 어떤 과일을 구매하시겠습니까?\n",
      "\n",
      "포도을(를) 구매하셨습니다! 남은 포도의 재고: 2개\n",
      "현재 재고: [2, 3, 3, 2, 3]\n",
      "또 어떤 과일을 구매하시겠습니까?\n",
      "\n",
      "당신은 과일가게를 나왔습니다.\n"
     ]
    }
   ],
   "source": [
    "f = ['사과', '바나나', '오렌지', '포도', '수박']\n",
    "c = [3, 3, 3, 3, 3]\n",
    "\n",
    "\n",
    "print(f'판매하는 과일: {f}')\n",
    "print(f'현재 재고: {c}\\n어떤 과일을 구매하시겠습니까?\\n(종료하려면 \"그만\"을 입력하세요)\\n')\n",
    "while True:\n",
    "    if sum(c) == 0:\n",
    "        print('모든 과일이 다 팔렸습니다.\\n가게 문을 닫습니다.')\n",
    "        break\n",
    "    input_f = str(input('과일 이름을 적어주세요.'))\n",
    "    if input_f == '그만':\n",
    "        print('당신은 과일가게를 나왔습니다.')\n",
    "        break\n",
    "    if str(f.index(input_f)):\n",
    "        id = f.index(input_f)\n",
    "        if c[id] != 0:\n",
    "            c[id] -= 1\n",
    "            print(f'{f[id]}을(를) 구매하셨습니다! 남은 {f[id]}의 재고: {c[id]}개\\n현재 재고: {c}\\n또 어떤 과일을 구매하시겠습니까?\\n')\n",
    "            continue\n",
    "        else:\n",
    "            print(f'{f[id]}은(는) 품절입니다!\\n')\n",
    "            continue\n",
    "\n",
    "\n"
   ]
  },
  {
   "cell_type": "markdown",
   "metadata": {},
   "source": [
    "## 끝말잇기 게임 (퇴근 미션)"
   ]
  },
  {
   "cell_type": "code",
   "execution_count": 50,
   "metadata": {},
   "outputs": [
    {
     "name": "stdout",
     "output_type": "stream",
     "text": [
      "끝말잇기 게임\n",
      "시작!\n",
      "('땡'을 적어 게임을 종료합니다!)\n",
      "\n",
      "가나다\n",
      "1번째 시도. 가나다 → 다람쥐\n",
      "2번째 시도. 다람쥐 → 쥐포\n",
      "땡! \"포\" 로 시작하는 단어를 입력하세요!\n",
      "3번째 시도. 쥐포 → 포도\n",
      "4번째 시도. 포도 → 도미노\n",
      "5번째 시도. 도미노 → 노랑색\n",
      "끝말잇기 종료!\n"
     ]
    }
   ],
   "source": [
    "a = 0\n",
    "var = '가나다'\n",
    "input_str = ''\n",
    "\n",
    "print(\"끝말잇기 게임\\n시작!\\n('땡'을 적어 게임을 종료합니다!)\\n\")\n",
    "\n",
    "print(var)\n",
    "while True:\n",
    "    input_str = str(input('단어를 입력해주세요...'))\n",
    "    if input_str == '땡':\n",
    "        print(\"끝말잇기 종료!\")\n",
    "        break\n",
    "    if len(input_str) == 1:\n",
    "        print('한글자는 안돼요!')\n",
    "        continue\n",
    "    if input_str[0] == var[-1]:\n",
    "        a += 1\n",
    "        print(f'{a}번째 시도. {var} → {input_str}')\n",
    "        var = input_str\n",
    "        continue\n",
    "    else:\n",
    "        print(f'땡! \"{var[-1]}\" 로 시작하는 단어를 입력하세요!')"
   ]
  },
  {
   "cell_type": "markdown",
   "metadata": {},
   "source": []
  }
 ],
 "metadata": {
  "kernelspec": {
   "display_name": "ms_ai_school",
   "language": "python",
   "name": "python3"
  },
  "language_info": {
   "codemirror_mode": {
    "name": "ipython",
    "version": 3
   },
   "file_extension": ".py",
   "mimetype": "text/x-python",
   "name": "python",
   "nbconvert_exporter": "python",
   "pygments_lexer": "ipython3",
   "version": "3.13.1"
  }
 },
 "nbformat": 4,
 "nbformat_minor": 2
}
