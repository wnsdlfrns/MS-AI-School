{
 "cells": [
  {
   "cell_type": "markdown",
   "metadata": {},
   "source": [
    "# 파이썬 기본 문법 (4)"
   ]
  },
  {
   "cell_type": "markdown",
   "metadata": {},
   "source": [
    "`2024년 12월 24일`"
   ]
  },
  {
   "cell_type": "markdown",
   "metadata": {},
   "source": [
    "## 복습하기"
   ]
  },
  {
   "cell_type": "code",
   "execution_count": 1,
   "metadata": {},
   "outputs": [
    {
     "name": "stdout",
     "output_type": "stream",
     "text": [
      "10 10 30 Hello 35\n"
     ]
    }
   ],
   "source": [
    "# 여러가지 변수를 선언할 수 있다.\n",
    "\n",
    "a = b = 10\n",
    "c, d = 30, 'Hello'\n",
    "e = 35\n",
    "\n",
    "print(a, b, c, d, e)"
   ]
  },
  {
   "cell_type": "markdown",
   "metadata": {},
   "source": [
    "### 시퀀스 자료형 - 리스트 복습"
   ]
  },
  {
   "cell_type": "code",
   "execution_count": 2,
   "metadata": {},
   "outputs": [
    {
     "name": "stdout",
     "output_type": "stream",
     "text": [
      "['닥터 스트레인지', '스플릿', '럭키', '배트맨']\n"
     ]
    }
   ],
   "source": [
    "movie_rank = [\"닥터 스트레인지\", \"스플릿\", \"럭키\"]\n",
    "\n",
    "movie_rank.append(\"배트맨\")\n",
    "\n",
    "print(movie_rank)"
   ]
  },
  {
   "cell_type": "code",
   "execution_count": 3,
   "metadata": {},
   "outputs": [
    {
     "name": "stdout",
     "output_type": "stream",
     "text": [
      "['닥터 스트레인지', '슈퍼맨', '스플릿', '럭키', '배트맨']\n"
     ]
    }
   ],
   "source": [
    "movie_rank = [\"닥터 스트레인지\", \"스플릿\", \"럭키\"]\n",
    "\n",
    "movie_rank.append(\"배트맨\")\n",
    "\n",
    "movie_rank.insert(1, \"슈퍼맨\")\n",
    "\n",
    "print(movie_rank)\n"
   ]
  },
  {
   "cell_type": "code",
   "execution_count": 4,
   "metadata": {},
   "outputs": [
    {
     "name": "stdout",
     "output_type": "stream",
     "text": [
      "['닥터 스트레인지', '슈퍼맨', '스플릿', '배트맨']\n"
     ]
    }
   ],
   "source": [
    "movie_rank = [\"닥터 스트레인지\", \"스플릿\", \"럭키\"]\n",
    "\n",
    "movie_rank.append(\"배트맨\")\n",
    "\n",
    "movie_rank.insert(1, \"슈퍼맨\")\n",
    "\n",
    "movie_rank.pop(-2)\n",
    "\n",
    "print(movie_rank)"
   ]
  },
  {
   "cell_type": "code",
   "execution_count": 5,
   "metadata": {},
   "outputs": [
    {
     "name": "stdout",
     "output_type": "stream",
     "text": [
      "['닥터 스트레인지', '슈퍼맨']\n"
     ]
    }
   ],
   "source": [
    "movie_rank = [\"닥터 스트레인지\", \"슈퍼맨\", \"스플릿\", \"배트맨\"]\n",
    "\n",
    "movie_rank.pop(-2)\n",
    "\n",
    "movie_rank.pop(-1)\n",
    "\n",
    "print(movie_rank)"
   ]
  },
  {
   "cell_type": "markdown",
   "metadata": {},
   "source": [
    "### 시퀀스 자료형 - 튜플 복습"
   ]
  },
  {
   "cell_type": "code",
   "execution_count": 6,
   "metadata": {},
   "outputs": [
    {
     "name": "stdout",
     "output_type": "stream",
     "text": [
      "apple bananna cake\n"
     ]
    }
   ],
   "source": [
    "# 언패킹해서 순서대로 변수에 담을 수 있다. (튜플을 언패킹 하는 이유는 대부분의 함수(function)의 return 값이 튜플이다.)\n",
    "\n",
    "temp = ('apple', 'bananna', 'cake')\n",
    "a, b, c = temp\n",
    "print(a, b, c)"
   ]
  },
  {
   "cell_type": "code",
   "execution_count": 7,
   "metadata": {},
   "outputs": [
    {
     "name": "stdout",
     "output_type": "stream",
     "text": [
      "cake apple bananna\n"
     ]
    }
   ],
   "source": [
    "temp = {'apple', 'bananna', 'cake'}\n",
    "a, b, c = temp\n",
    "print(a, b, c)"
   ]
  },
  {
   "cell_type": "code",
   "execution_count": 8,
   "metadata": {},
   "outputs": [
    {
     "name": "stdout",
     "output_type": "stream",
     "text": [
      "apple bananna cake\n"
     ]
    }
   ],
   "source": [
    "temp = ['apple', 'bananna', 'cake']\n",
    "a, b, c = temp\n",
    "print(a, b, c)"
   ]
  },
  {
   "cell_type": "markdown",
   "metadata": {},
   "source": [
    "## .replace()\n",
    "replace()는 String의 문자 또는 문자열을 변형시킬 수 있다. "
   ]
  },
  {
   "cell_type": "code",
   "execution_count": 9,
   "metadata": {},
   "outputs": [
    {
     "name": "stdout",
     "output_type": "stream",
     "text": [
      "01012349876\n"
     ]
    }
   ],
   "source": [
    "phone_number = \"010-1234-9876\"\n",
    "phone_number1 = phone_number.replace('-', '')\n",
    "print(phone_number1)"
   ]
  },
  {
   "cell_type": "markdown",
   "metadata": {},
   "source": [
    "## .split()\n",
    "split()은 기본적인 옵션으로 띄어쓰기(' ')를 기준으로 나눠준다."
   ]
  },
  {
   "cell_type": "code",
   "execution_count": 11,
   "metadata": {},
   "outputs": [
    {
     "name": "stdout",
     "output_type": "stream",
     "text": [
      "5 13 11\n",
      "5 + 13 + 11 = 29\n"
     ]
    }
   ],
   "source": [
    "a, b, c = input().split() # input은 기본적으로 string으로 받음\n",
    "s = int(a) + int(b) + int(c)\n",
    "\n",
    "print(a, b, c)\n",
    "print(f'{a} + {b} + {c} = {s}')"
   ]
  },
  {
   "cell_type": "code",
   "execution_count": 13,
   "metadata": {},
   "outputs": [
    {
     "name": "stdout",
     "output_type": "stream",
     "text": [
      "<class 'str'> <class 'float'> <class 'int'>\n",
      "name = 박지민 height = 178.5 age = 28\n"
     ]
    }
   ],
   "source": [
    "# 입력: '박지민 178.5 28'\n",
    "a, b, c = input().split()\n",
    "b, c = float(b), int(c)\n",
    "print(type(a), type(b), type(c))\n",
    "print(f'name = {a} height = {b} age = {c}')"
   ]
  },
  {
   "cell_type": "code",
   "execution_count": 14,
   "metadata": {},
   "outputs": [
    {
     "name": "stdout",
     "output_type": "stream",
     "text": [
      "50620\n",
      "50620\n"
     ]
    }
   ],
   "source": [
    "d = {'kim': 34000, 'lee':12000, 'park':1200, 'lew':0, 'song':3420}\n",
    "d2 = sum(list(d.values())) # ↓ d.values() 자체가 이미 list 이기 때문에 굳이 list로 형변환 할 필요가 없다.\n",
    "d3 = sum(d.values())\n",
    "print(d2)\n",
    "print(d3)"
   ]
  },
  {
   "cell_type": "markdown",
   "metadata": {},
   "source": [
    "## 시퀀스 자료형의 특징(= List 변환)\n",
    "문자(Character) 혹은 문자열(String)은 바로 list로 변환하여 사용할 수 있다.</br>\n",
    "(단순한 문자 혹은 문자열을 통해 반복문을 사용할 수 있다.)</br>\n",
    "- 시퀀스 타입(Sequence Type) 종류: `list(리스트)`, `character(문자)`, `string(문자열)`, `tuple(튜플)`"
   ]
  },
  {
   "cell_type": "code",
   "execution_count": 15,
   "metadata": {},
   "outputs": [
    {
     "name": "stdout",
     "output_type": "stream",
     "text": [
      "['abcd']\n"
     ]
    }
   ],
   "source": [
    "def make_list(string):\n",
    "    string = str(string)\n",
    "    a = string.split()\n",
    "    print(a)\n",
    "\n",
    "make_list('abcd')"
   ]
  },
  {
   "cell_type": "code",
   "execution_count": 16,
   "metadata": {},
   "outputs": [
    {
     "data": {
      "text/plain": [
       "['a', 'b', 'c', 'd']"
      ]
     },
     "execution_count": 16,
     "metadata": {},
     "output_type": "execute_result"
    }
   ],
   "source": [
    "def make_list(string):\n",
    "    return list(string)\n",
    "\n",
    "make_list('abcd')"
   ]
  },
  {
   "cell_type": "markdown",
   "metadata": {},
   "source": [
    "## return\n",
    "return은 함수의 종료를 의미한다.</br>\n",
    "함수에서 코드가 진행중에 return을 만나면, 거기서 종료된다.</br>\n",
    "return은 함수 어느 블럭에든 들어갈 수 있고, 여러번 있어도 괜찮다."
   ]
  },
  {
   "cell_type": "code",
   "execution_count": 17,
   "metadata": {},
   "outputs": [],
   "source": [
    "def nick_name(name, nick):\n",
    "    if nick == '바보':\n",
    "        return  # 이렇게 강제로 return 하므로 사람에게 사용하기에 나쁜 단어를 거를 수 있음\n",
    "    print(f'{name}의 별명은 {nick} 입니다!')"
   ]
  },
  {
   "cell_type": "code",
   "execution_count": 18,
   "metadata": {},
   "outputs": [],
   "source": [
    "def add_mul(a, b):\n",
    "    return a+b\n",
    "    return a*b  # 여기서 위의 a+b만 실행되고, 이 아래는 실행x"
   ]
  },
  {
   "cell_type": "markdown",
   "metadata": {},
   "source": [
    "## 함수 선언 복습"
   ]
  },
  {
   "cell_type": "code",
   "execution_count": 19,
   "metadata": {},
   "outputs": [
    {
     "name": "stdout",
     "output_type": "stream",
     "text": [
      "나의 이름은 고양이 입니다.\n",
      "나이는 12살 입니다.\n",
      "남자입니다.\n",
      "\n",
      "나의 이름은 치즈냥이 입니다.\n",
      "나이는 8살 입니다.\n",
      "여자입니다.\n",
      "\n"
     ]
    }
   ],
   "source": [
    "def say_myself(name, age, man=True):\n",
    "    print(f'나의 이름은 {name} 입니다.')\n",
    "    print(f'나이는 {age}살 입니다.')\n",
    "    if man:\n",
    "        print(f'남자입니다.')\n",
    "    else:\n",
    "        print(f'여자입니다.')\n",
    "    print()\n",
    "\n",
    "say_myself('고양이', 12)\n",
    "say_myself('치즈냥이', 8, False)"
   ]
  },
  {
   "cell_type": "markdown",
   "metadata": {},
   "source": [
    "## 함수와 변수의 효력 범위"
   ]
  },
  {
   "cell_type": "code",
   "execution_count": 21,
   "metadata": {},
   "outputs": [
    {
     "name": "stdout",
     "output_type": "stream",
     "text": [
      "1\n"
     ]
    }
   ],
   "source": [
    "a = 1 # a ← 전역 변수 (Global variable)\n",
    "\n",
    "def vartest(a): # a ← 매개변수 = 지역 변수 (Local variable)\n",
    "    a += 1\n",
    "\n",
    "vartest(a) # a ← 전역 변수가 들어가서 vartest(a)의 함수가 작동함\n",
    "print(a) # a ← 전역 변수를 데려옴"
   ]
  },
  {
   "cell_type": "code",
   "execution_count": 22,
   "metadata": {},
   "outputs": [
    {
     "name": "stdout",
     "output_type": "stream",
     "text": [
      "1. 3\n",
      "2. 4\n"
     ]
    }
   ],
   "source": [
    "a = 3\n",
    "\n",
    "def vartest():\n",
    "    global a # 함수 안에서 함수 밖의 변수를 변경하는 방법 (경우에 따라 사용)\n",
    "    a += 1\n",
    "\n",
    "print(f'1. {a}')\n",
    "vartest() # \n",
    "print(f'2. {a}')"
   ]
  },
  {
   "cell_type": "markdown",
   "metadata": {},
   "source": [
    "## map()\n",
    "map() 함수는 고차원 함수이며, 파이썬 내장 함수이다.</br>\n",
    "사용방법: map(함수명, 인자(iterable))</br>\n",
    "function에 interable의 item들을 인자로 전달하여 실행</br>\n",
    "function에 parameter 수 만큼 iterable이 전달되어야 함</br>\n",
    "결과는 map 타입"
   ]
  },
  {
   "cell_type": "code",
   "execution_count": 23,
   "metadata": {},
   "outputs": [
    {
     "name": "stdout",
     "output_type": "stream",
     "text": [
      "<map object at 0x0000012DF42BD210>\n"
     ]
    }
   ],
   "source": [
    "a = map(print, ['Hello', 'hi'])\n",
    "a\n",
    "print(a)"
   ]
  },
  {
   "cell_type": "code",
   "execution_count": 24,
   "metadata": {},
   "outputs": [
    {
     "name": "stdout",
     "output_type": "stream",
     "text": [
      "1. [2, 3, 4, 5, 6]\n",
      "<map object at 0x0000012DF42BE470>\n",
      "2. [2, 3, 4, 5, 6]\n"
     ]
    }
   ],
   "source": [
    "# map 함수는 for문으로 계산할 수 있는 방법을 사용하지 않고, 고차함수로 반복문으로 처리할 수 있다.\n",
    "\n",
    "myList = [1, 2, 3, 4, 5]\n",
    "\n",
    "# [목표] 모든 요소를 1씩 증가 시키는 것\n",
    "\n",
    "# 1. for 반복문 사용시:\n",
    "result1 = []\n",
    "for var in myList:\n",
    "    result1.append(var + 1)\n",
    "\n",
    "print(f'1. {result1}')\n",
    "\n",
    "\n",
    "# 2. map 함수 이용\n",
    "def add_one(n):\n",
    "    return n + 1\n",
    "\n",
    "add_one_all_1 = map(add_one, myList)\n",
    "print(add_one_all_1) # 이터러블(iteraible; = list, tuple 등..)의 주소를 알려줌\n",
    "\n",
    "#                           ↓ 함수 or 커스텀 함수 이름만 작성 \n",
    "add_one_all_2 = list(map(add_one, myList))\n",
    "print(f'2. {add_one_all_2}') # ↑ list()로 받아서 실행"
   ]
  },
  {
   "cell_type": "code",
   "execution_count": 25,
   "metadata": {},
   "outputs": [
    {
     "name": "stdout",
     "output_type": "stream",
     "text": [
      "[1, 4, 0, 256, 1.0]\n"
     ]
    }
   ],
   "source": [
    "number_1 = [1, 2, 3, 4, 5]\n",
    "number_2 = [1, 2, 3, 4, 5]\n",
    "cal_text = ['*', '+', '-', '**', '/']\n",
    "\n",
    "def cal(x, y, t='+'):\n",
    "    if t == '+':\n",
    "        return x+y\n",
    "    elif t == '-':\n",
    "        return x-y\n",
    "    elif t == '*':\n",
    "        return x*y\n",
    "    elif t == '/':\n",
    "        return x/y\n",
    "    elif t == '//':\n",
    "        return x//y\n",
    "    elif t == '%':\n",
    "        return x%y\n",
    "    else:\n",
    "        return x**y\n",
    "    \n",
    "cal_nums = list(map(cal, number_1, number_2, cal_text)) # ← 함수의 매개변수로 계산할 리스트를 불러오게 할 수 있다.\n",
    "print(cal_nums)\n"
   ]
  },
  {
   "cell_type": "markdown",
   "metadata": {},
   "source": [
    "### map을 이용한 활용 예제"
   ]
  },
  {
   "cell_type": "code",
   "execution_count": 27,
   "metadata": {},
   "outputs": [
    {
     "name": "stdout",
     "output_type": "stream",
     "text": [
      "[3, -6, 100, 26]\n"
     ]
    }
   ],
   "source": [
    "f = (3.14, -5.625, 100.4, 25.8)\n",
    "\n",
    "def intr(n):\n",
    "    return round(n)\n",
    "\n",
    "intr_result = list(map(intr, f))\n",
    "print(intr_result)"
   ]
  },
  {
   "cell_type": "markdown",
   "metadata": {},
   "source": [
    "## zip()"
   ]
  },
  {
   "cell_type": "code",
   "execution_count": 28,
   "metadata": {},
   "outputs": [
    {
     "name": "stdout",
     "output_type": "stream",
     "text": [
      "[(52, 19, 0), (255, 63, 68), (39, 227, 255), (132, 197, 187)]\n"
     ]
    }
   ],
   "source": [
    "# zip 함수는 배열을 기준으로 같은 인덱스 번호끼리 매칭되어 짝지어진다.\n",
    "# 경우에 따라서는 어떤 길이의 배열로 짝지을지도 결정할 수 있다.\n",
    "# 기본은 짧은 것이고, 긴 것을 기준으로 하여 짧은 배열들을 어떻게 채워넣을지 고민을 하는 방법도 있다.\n",
    "\n",
    "r = (52, 255, 39, 132)\n",
    "g = (19, 63, 227, 197)\n",
    "b = (0, 68, 255, 187)\n",
    "\n",
    "img = list(zip(r, g, b))\n",
    "\n",
    "print(img)"
   ]
  },
  {
   "cell_type": "code",
   "execution_count": 29,
   "metadata": {},
   "outputs": [
    {
     "name": "stdout",
     "output_type": "stream",
     "text": [
      "[(52, 19, 0), (255, 63, 68), (39, 227, 255), (132, 197, 187)]\n"
     ]
    }
   ],
   "source": [
    "#    |                | 여기까지 배열 내 4개의 인자 값만 압축 된다.\n",
    "r2 = (52, 255, 39, 132, 0)\n",
    "g2 = (19, 63, 227, 197, 1, 100)\n",
    "b2 = (0, 68, 255, 187)\n",
    "\n",
    "img2 = list(zip(r2, g2, b2))\n",
    "\n",
    "print(img2)"
   ]
  },
  {
   "cell_type": "code",
   "execution_count": 30,
   "metadata": {},
   "outputs": [
    {
     "name": "stdout",
     "output_type": "stream",
     "text": [
      "[[(1, 11, 1), (2, 22, 2), (3, 33, 3)], [(4, 44, 4), (5, 55, 5), (6, 66, 6)], [(7, 77, 7), (8, 88, 8), (9, 99, 9)]]\n"
     ]
    }
   ],
   "source": [
    "## 긴것을 기준으로 하여 재 매칭\n",
    "def make_image(r, g, b, width, height):\n",
    "    pixels = list(zip(r, g, b))\n",
    "    image = []\n",
    "    for row_idx in range(0, width*height, width):\n",
    "        row = pixels[row_idx:row_idx+width]\n",
    "        image.append(row)\n",
    "    return image\n",
    "\n",
    "r = (1, 2, 3, 4, 5, 6, 7, 8, 9)\n",
    "g = (11, 22, 33, 44, 55, 66, 77, 88, 99)\n",
    "b = (1, 2, 3, 4, 5, 6, 7, 8, 9)\n",
    "\n",
    "image = make_image(r, g, b, 3, 3)\n",
    "print(image)"
   ]
  },
  {
   "cell_type": "markdown",
   "metadata": {},
   "source": [
    "## enumerate()\n",
    "- enumerate(iterable, [, start = 0])\n",
    "- start는 시작 번호(생략 시 0)이며, 결과는 enumerate 타입\n",
    "- item들의 번호를 부여하여 (idx, value)의 튜플쌍을 생성함"
   ]
  },
  {
   "cell_type": "code",
   "execution_count": 31,
   "metadata": {},
   "outputs": [
    {
     "name": "stdout",
     "output_type": "stream",
     "text": [
      "{1: 'apple', 2: 'orange', 3: 'banana', 4: 'mango'}\n",
      "{1: 'apple', 2: 'orange', 3: 'banana', 4: 'mango'}\n"
     ]
    }
   ],
   "source": [
    "f = ('apple', 'orange', 'banana', 'mango')\n",
    "\n",
    "tag_1 = dict(enumerate(f, start=1))\n",
    "tag_2 = dict(enumerate(f, 1)) # 둘 다 똑같다! [공식문서 참조]\n",
    "\n",
    "print(tag_1)\n",
    "print(tag_2)"
   ]
  },
  {
   "cell_type": "markdown",
   "metadata": {},
   "source": [
    "## filter()\n",
    "filter() 함수는 조건에 맞는(True) 인자만 리스트나 딕셔너리, 필터에 담아준다."
   ]
  },
  {
   "cell_type": "code",
   "execution_count": 32,
   "metadata": {},
   "outputs": [
    {
     "name": "stdout",
     "output_type": "stream",
     "text": [
      "[8, 7, 9]\n"
     ]
    }
   ],
   "source": [
    "a = [8, 3, 2, 10, 15, 7, 1, 9, 0, 11]\n",
    "\n",
    "def f(x):\n",
    "    if x > 6 and x < 10:\n",
    "        return True\n",
    "    else:\n",
    "        return False\n",
    "\n",
    "list_a = list(filter(f, a))\n",
    "print(list_a)"
   ]
  },
  {
   "cell_type": "code",
   "execution_count": 33,
   "metadata": {},
   "outputs": [
    {
     "name": "stdout",
     "output_type": "stream",
     "text": [
      "[8, 7, 9]\n"
     ]
    }
   ],
   "source": [
    "b = [8, 3, 2, 10, 15, 7, 1, 9, 0, 11]\n",
    "def f(x):\n",
    "    return x > 6 and x < 10\n",
    "\n",
    "list_b = list(filter(f, a))\n",
    "print(list_b)"
   ]
  },
  {
   "cell_type": "markdown",
   "metadata": {},
   "source": [
    "## lambda\n",
    "- 여기서도 쓰고, 다른곳에서도 사용할 것이라면 람다가 아니라 함수를 사용하는것이 맞다. 하지만\n",
    "- 코드가 짧고, True/False만 받고싶을 때 lambda 함수를 사용할 수 있다.\n",
    "- 보통 함수인 def를 이용하여 복합하게 코딩할 필요가 사라진다.\n",
    "- 구조: `lambda x : x + 1`"
   ]
  },
  {
   "cell_type": "code",
   "execution_count": 34,
   "metadata": {},
   "outputs": [
    {
     "name": "stdout",
     "output_type": "stream",
     "text": [
      "[2, 3, 4, 5, 6, 7, 8, 9, 10]\n",
      "[2, 3, 4, 5, 6, 7, 8, 9, 10]\n"
     ]
    }
   ],
   "source": [
    "## 람다와 함수의 비교:\n",
    "nums = [1, 2, 3, 4, 5, 6, 7, 8, 9]\n",
    "\n",
    "\n",
    "## 함수 def를 이용\n",
    "def add_one(n):\n",
    "    return n + 1\n",
    "\n",
    "def_result = list(map(add_one, nums))\n",
    "print(def_result)\n",
    "\n",
    "\n",
    "## 람다 lambda를 이용\n",
    "lambda_result = list(map(lambda x : x + 1, nums)) # 매우 짧음!!\n",
    "print(lambda_result)"
   ]
  },
  {
   "cell_type": "code",
   "execution_count": 35,
   "metadata": {},
   "outputs": [],
   "source": [
    "# 람다 함수의 존재 이유\n",
    "\n",
    "# 익명의 함수가  필요할 때 (함수 이름이 필요 없는 경우)\n",
    "# 코드의 가독성을 높이기 위해 짧은 함수 정의 가 필요한 경우\n",
    "# 한 번만 사용하고 버릴 함수를 정의할때\n",
    "\n",
    "# (주-핵심) 가독성과 메모리 최적화 - 속도 면에서는 메리트가 없을 수 있다."
   ]
  },
  {
   "cell_type": "code",
   "execution_count": 36,
   "metadata": {},
   "outputs": [
    {
     "name": "stdout",
     "output_type": "stream",
     "text": [
      "[1, 4, 9, 16]\n"
     ]
    }
   ],
   "source": [
    "numbers = [1, 2, 3, 4]\n",
    "squared = list(map(lambda x : x ** 2, numbers))\n",
    "print(squared)"
   ]
  },
  {
   "cell_type": "markdown",
   "metadata": {},
   "source": [
    "이벤트 핸들러로 그냥 값만 받을때 상관이 없는데, 함수 중에 아규먼트를 받아들이는 친구는 이벤트 이벤트 핸들러에 같이 넘겨줘야하는데, 이때 괄호를 넣게될때 이렇게 되면, 이 친구는 함수를 호출하는 것이기 때문에 map()같은 함수를 사용하는 방법이 있다.</br>\n",
    "람다식 (수학 용어)가 기원이랍니다.</br>궁금하신 분은 Lambda Calculus 검색해보세요!"
   ]
  },
  {
   "cell_type": "markdown",
   "metadata": {},
   "source": [
    "- 람다를 이용해서 `True/False Boolean 타입 값`으로 받기"
   ]
  },
  {
   "cell_type": "code",
   "execution_count": 38,
   "metadata": {},
   "outputs": [
    {
     "name": "stdout",
     "output_type": "stream",
     "text": [
      "[2, 4]\n"
     ]
    }
   ],
   "source": [
    "numbers = [1, 2, 3, 4]\n",
    "\n",
    "event_numbers = list(filter(lambda x : x%2 == 0, numbers))\n",
    "print(event_numbers)"
   ]
  },
  {
   "cell_type": "code",
   "execution_count": 41,
   "metadata": {},
   "outputs": [
    {
     "name": "stdout",
     "output_type": "stream",
     "text": [
      "[(5, 1), (3, 4), (1, 2)]\n"
     ]
    }
   ],
   "source": [
    "## 내가 해본 코드:\n",
    "# 문제 풀이: 2번째 값을 접근해야 하므로 인덱싱이 필요하다는 사실을 알고 있었지만,\n",
    "# sorted() 함수의 'key' 값을 이해하지 못해서 실패함.\n",
    "\n",
    "points = [(1, 2), (3, 4), (5, 1)]\n",
    "#list(lambda x : x[1], points).sorted()\n",
    "#sorted_points = list((lambda x, y : y, points), reverse=True))\n",
    "# sorted_points = sorted(list(map(lambda x : x[1], points)))\n",
    "sorted_points = sorted(list(map(lambda x : x, points)), reverse=True)\n",
    "print(sorted_points)"
   ]
  },
  {
   "cell_type": "code",
   "execution_count": 42,
   "metadata": {},
   "outputs": [
    {
     "name": "stdout",
     "output_type": "stream",
     "text": [
      "[(5, 1), (1, 2), (3, 4)]\n"
     ]
    }
   ],
   "source": [
    "points = [(1, 2), (3, 4), (5, 1)]\n",
    "\n",
    "#                                    ↓ sorted()의 key 값을 기준으로 정렬\n",
    "#                                    ↓              ↓ 인덱싱으로 1번 index를 기준으로\n",
    "sorted_points = list(sorted(points, key=lambda x : x[1]))\n",
    "print(sorted_points)"
   ]
  },
  {
   "cell_type": "code",
   "execution_count": 43,
   "metadata": {},
   "outputs": [
    {
     "name": "stdout",
     "output_type": "stream",
     "text": [
      "['applemint', 'banana', 'cherry']\n",
      "['banana', 'cherry', 'applemint']\n"
     ]
    }
   ],
   "source": [
    "a = ['applemint', 'banana', 'cherry']\n",
    "\n",
    "new_a = sorted(a, key=len)\n",
    "print(a)\n",
    "print(new_a)"
   ]
  },
  {
   "cell_type": "code",
   "execution_count": 44,
   "metadata": {},
   "outputs": [
    {
     "name": "stdout",
     "output_type": "stream",
     "text": [
      "1. {3: 'c', 1: 'a', 2: 'b'}\n",
      "2. [1, 2, 3]\n",
      "3. [(1, 'a'), (2, 'b'), (3, 'c')]\n",
      "3. [(1, 'a'), (2, 'b'), (3, 'c')]\n"
     ]
    }
   ],
   "source": [
    "my_dict = {3:'c', 1:'a', 2:'b'}\n",
    "\n",
    "#                          그냥 키값만 정렬됨.\n",
    "my_dict_sorted = sorted(my_dict)\n",
    "print(f'1. {my_dict}')\n",
    "print(f'2. {my_dict_sorted}')\n",
    "\n",
    "#                                            ↓ 아이템즈가 튜플로 만들어져서 정렬됨\n",
    "my_dict_sorted_2 = sorted(my_dict.items())\n",
    "print(f'3. {my_dict_sorted_2}')\n",
    "\n",
    "#                                            ↓ 아이템즈가 튜플로 만들어져서 정렬됨\n",
    "my_dict_sorted_3 = sorted(my_dict.items(), key=lambda item: item[1])\n",
    "print(f'3. {my_dict_sorted_3}')"
   ]
  },
  {
   "cell_type": "markdown",
   "metadata": {},
   "source": [
    "- dict의 순서?에 관하여\n",
    "</br></br>\n",
    "- - `python 3.7 이후 버전`부터 dict 는 `요소가 삽입된 순서를 기억`하게 되었습니다.</br>그리고 반복문 등을 이용해 `순차적 접근`이 이뤄질 때에는 `무조건 삽입된 순서대로 (오래된 것 부터 최신 것 순으로) 접근`하게 됩니다."
   ]
  },
  {
   "cell_type": "code",
   "execution_count": 45,
   "metadata": {},
   "outputs": [
    {
     "name": "stdout",
     "output_type": "stream",
     "text": [
      "[(3, 1, 10), (100, 2, 42), (50, 3, -10)]\n"
     ]
    }
   ],
   "source": [
    "## x, y, z 좌표의 y값을 기준으로 올림차순 정렬하기\n",
    "\n",
    "locs = [(100, 2, 42), (3, 1, 10), (50, 3, -10)]\n",
    "\n",
    "sorted_y = list(sorted(locs, key=lambda loc : loc[1]))\n",
    "print(sorted_y)"
   ]
  },
  {
   "cell_type": "code",
   "execution_count": 46,
   "metadata": {},
   "outputs": [],
   "source": [
    "## x, y, z 좌표를 딕셔너리의 형태로 받아서 정렬해보기: ... 나중에 해보기!\n",
    "# x 좌표 값을 기준:\n",
    "\n",
    "# locs_dict = [{'x':1549, 'y':64, 'z':154}, {'x':-257, 'y':-64, 'z':207425}, {'x':17880, 'y':0, 'z':1104}, {'x':2040, 'y':72, 'z':1054}]\n",
    "\n",
    "# print(list(map(lambda x : x['z'], locs_dict)))\n",
    "\n",
    "# sorted_dict_y = list(sorted(locs_dict[0].items(), key=lambda loc : loc['z']))\n",
    "# print(sorted_dict_y)"
   ]
  },
  {
   "cell_type": "code",
   "execution_count": null,
   "metadata": {},
   "outputs": [],
   "source": []
  },
  {
   "cell_type": "markdown",
   "metadata": {},
   "source": [
    "## 모듈(Module)\n",
    "모듈이란?</br>\n",
    "1. 파이썬 코드로 이루어진 파일이다. (.py)</br>\n",
    "2. 함수, 변수, 클래스 등의 코드가 들어가 있다.</br>\n",
    "3. 직접 만들거나(사용자 정의 모듈)</br>\n",
    "4. 다른 사람이 만들어 놓은 모듈(서드파티, third party)을 가져와 사용함</br></br>\n",
    "(프로젝트 내에서, 모듈≒파일, 패키지≒폴더라고 생각하면 쉽습니다.) '≒' 비슷함 이라는 기호"
   ]
  },
  {
   "cell_type": "markdown",
   "metadata": {},
   "source": [
    "### 모듈 사용법\n",
    "```python\n",
    "import 모듈명                           # ← 모듈 전체를 가져옴. 뒷 부분에 as를 넣어 긴 모듈 명을 줄일 수 있음\n",
    "from 모듈명 import 함수1, 함수2, ...     # ← 모듈 내 특정 함수만 가지고 오는 방법\n",
    "```\n",
    "\n",
    "#### 패키지란?\n",
    "- - 관련 잇는 모듈의 집합\n",
    "- - 모듈을 담는 디렉토리\n",
    "- - 파이썬 모듈을 계층적인 디렉토리 구조로 관리할 수 있게 함\n",
    "\n",
    "#### 모듈 가져오기\n",
    "- import 모듈명(파일명)\n",
    "- from 모듈명 import 이름(함수명 or 클래스명)\n",
    "- import 모듈명 as 이름(별명)\n",
    "- from 모듈명 import 이름(함수명 or 클래스명) as 이름(별명)"
   ]
  },
  {
   "cell_type": "code",
   "execution_count": 47,
   "metadata": {},
   "outputs": [
    {
     "data": {
      "text/plain": [
       "8.0"
      ]
     },
     "execution_count": 47,
     "metadata": {},
     "output_type": "execute_result"
    }
   ],
   "source": [
    "import math\n",
    "\n",
    "# .pow = 제곱\n",
    "math.pow(2, 3)"
   ]
  },
  {
   "cell_type": "code",
   "execution_count": 48,
   "metadata": {},
   "outputs": [
    {
     "data": {
      "text/plain": [
       "8.0"
      ]
     },
     "execution_count": 48,
     "metadata": {},
     "output_type": "execute_result"
    }
   ],
   "source": [
    "import math as m\n",
    "\n",
    "m.pow(2, 3)"
   ]
  },
  {
   "cell_type": "code",
   "execution_count": 49,
   "metadata": {},
   "outputs": [
    {
     "data": {
      "text/plain": [
       "30517578125.0"
      ]
     },
     "execution_count": 49,
     "metadata": {},
     "output_type": "execute_result"
    }
   ],
   "source": [
    "from math import pow\n",
    "\n",
    "pow(5, 15)"
   ]
  },
  {
   "cell_type": "code",
   "execution_count": 50,
   "metadata": {},
   "outputs": [
    {
     "data": {
      "text/plain": [
       "32.0"
      ]
     },
     "execution_count": 50,
     "metadata": {},
     "output_type": "execute_result"
    }
   ],
   "source": [
    "from math import pow as p\n",
    "\n",
    "p(2, 5)"
   ]
  },
  {
   "cell_type": "code",
   "execution_count": 51,
   "metadata": {},
   "outputs": [
    {
     "name": "stdout",
     "output_type": "stream",
     "text": [
      "32.0\n",
      "2.23606797749979\n"
     ]
    }
   ],
   "source": [
    "from math import *\n",
    "\n",
    "print(pow(2, 5))\n",
    "print(sqrt(5))"
   ]
  },
  {
   "cell_type": "markdown",
   "metadata": {},
   "source": [
    "### 모듈과 함수\n",
    "#### 로또 번호 추첨기(무작위 생성된 6개 숫자 출력)"
   ]
  },
  {
   "cell_type": "code",
   "execution_count": 52,
   "metadata": {},
   "outputs": [
    {
     "name": "stdout",
     "output_type": "stream",
     "text": [
      "[20, 28, 10, 27, 29, 14]\n"
     ]
    }
   ],
   "source": [
    "import random as r\n",
    "\n",
    "# roto = list(lambda x : x = r.random(45))\n",
    "roto_list = []\n",
    "while len(roto_list) < 6:\n",
    "    rands = r.randint(6, 45)\n",
    "    if rands not in roto_list:\n",
    "        roto_list.append(rands)\n",
    "\n",
    "print(roto_list)\n",
    "# roto = list(for i in range(6) return r.random(45))"
   ]
  },
  {
   "cell_type": "code",
   "execution_count": 53,
   "metadata": {},
   "outputs": [
    {
     "name": "stdout",
     "output_type": "stream",
     "text": [
      "[40, 7, 30, 5, 44, 42]\n"
     ]
    }
   ],
   "source": [
    "import random as r\n",
    "\n",
    "data_list = r.sample(range(45), 6)\n",
    "print(data_list)"
   ]
  },
  {
   "cell_type": "markdown",
   "metadata": {},
   "source": [
    "## 클래스\n",
    "### 클래스(Class)\n",
    "1. 똑같은 것을 계속 만들어 낼 수 있는 틀, 설계도 등으로 정의하기도 함\n",
    "- 예: 자동차 공장의 자동차 형태, 쿠키 틀 등\n",
    "\n",
    "### 객체(object)\n",
    "1. 클래스에서 찍어낸 형태\n",
    "- 예: 자동차, 쿠키틀에서 찍어낸 쿠키\n",
    "2. 객체마다 고유한 성격을 가짐\n",
    "- 터틀개개체가 각기 고유의 속성을 가질 수 있음 (색, 커서 모양 등)\n",
    "3. 클래스의 인스턴스(instance)라고 표현하기도 함\n",
    "\n",
    "- 클래스 선언 형식\n",
    "```python\n",
    "class 이름:\n",
    "    def __init__(self, 초기값):\n",
    "        멤버 초기화\n",
    "    메소드 정의\n",
    "```"
   ]
  },
  {
   "cell_type": "markdown",
   "metadata": {},
   "source": [
    "### 클래스 선언"
   ]
  },
  {
   "cell_type": "code",
   "execution_count": 54,
   "metadata": {},
   "outputs": [],
   "source": [
    "class Dog:\n",
    "\n",
    "    # 클래스 변수\n",
    "    species = \"Doberman\" \n",
    "\n",
    "\n",
    "    # 클래스를 호출하면 자동으로 __init__(): 이라는 것의 안에서 변수로 불러오게 됨.\n",
    "    #             ↓ __init__의 첫번째 인자는 무조건 self라는 변수로 self가 아니어도 a라고 해도 된다.\n",
    "    def __init__(self, name, age): # self <- 라는 내부 변수가 있다. - 클래스 내부에서 사용하는 변수임\n",
    "        self.name = name\n",
    "        self.age = age\n",
    "\n",
    "    # 클래스 메소드\n",
    "           #  ↓  args는 self로 지정하면 클래스 내의 모든 self(__init__)에 접근 가능함.\n",
    "    def bark(self):\n",
    "        return f'{self.name}가 짖습니다.'\n"
   ]
  },
  {
   "cell_type": "code",
   "execution_count": 55,
   "metadata": {},
   "outputs": [
    {
     "data": {
      "text/plain": [
       "'Happy가 짖습니다.'"
      ]
     },
     "execution_count": 55,
     "metadata": {},
     "output_type": "execute_result"
    }
   ],
   "source": [
    "dog1 = Dog('Happy', 3)\n",
    "dog1.bark()"
   ]
  },
  {
   "cell_type": "code",
   "execution_count": 56,
   "metadata": {},
   "outputs": [
    {
     "data": {
      "text/plain": [
       "3"
      ]
     },
     "execution_count": 56,
     "metadata": {},
     "output_type": "execute_result"
    }
   ],
   "source": [
    "dog1.age"
   ]
  },
  {
   "cell_type": "code",
   "execution_count": 57,
   "metadata": {},
   "outputs": [
    {
     "data": {
      "text/plain": [
       "__main__.Dog"
      ]
     },
     "execution_count": 57,
     "metadata": {},
     "output_type": "execute_result"
    }
   ],
   "source": [
    "type(dog1)"
   ]
  },
  {
   "cell_type": "markdown",
   "metadata": {},
   "source": [
    "### 계산기 만들어 보는 예제"
   ]
  },
  {
   "cell_type": "code",
   "execution_count": 58,
   "metadata": {},
   "outputs": [
    {
     "name": "stdout",
     "output_type": "stream",
     "text": [
      "3\n",
      "7\n",
      "2\n",
      "12\n"
     ]
    }
   ],
   "source": [
    "class Calculator:\n",
    "    def __init__(self):\n",
    "        self.result = 0\n",
    "\n",
    "    def add(self, number):\n",
    "        self.result += number\n",
    "        return self.result\n",
    "\n",
    "cal1 = Calculator()\n",
    "cal2 = Calculator()\n",
    "\n",
    "print(cal1.add(3))\n",
    "print(cal1.add(4))\n",
    "print(cal2.add(2))\n",
    "print(cal2.add(10))"
   ]
  },
  {
   "cell_type": "code",
   "execution_count": 59,
   "metadata": {},
   "outputs": [
    {
     "name": "stdout",
     "output_type": "stream",
     "text": [
      "10, 4, 21, 2.3333333333333335\n"
     ]
    }
   ],
   "source": [
    "\n",
    "class multiCal:\n",
    "    def __init__(self, num1, num2):\n",
    "        self.num1 = num1\n",
    "        self.num2 = num2\n",
    "\n",
    "    def add(self):\n",
    "        return self.num1 + self.num2\n",
    "\n",
    "    def sub(self):\n",
    "        return self.num1 - self.num2\n",
    "\n",
    "    def mul(self):\n",
    "        return self.num1 * self.num2\n",
    "\n",
    "    def div(self):\n",
    "        return self.num1 / self.num2\n",
    "\n",
    "\n",
    "#                 ↓  클래스에서 받아오는 것으로 아래 인수를 통해 결괏값을 알아낼 수 있음\n",
    "mcal = multiCal(7, 3)\n",
    "\n",
    "print(f'{mcal.add()}, {mcal.sub()}, {mcal.mul()}, {mcal.div()}')\n"
   ]
  },
  {
   "cell_type": "markdown",
   "metadata": {},
   "source": [
    "### 클래스만의 특징\n",
    "계산기를 만들다보니 사칙 연산밖에 안돼서</br>\n",
    "제곱하는 기능이 가능한 기능을 추가하고싶어졌다!</br>\n",
    "했을때, 굳이 내가 이전의 코드를 다 가지고오지 않아도</br>\n",
    "상속하여 새로운 클래스를 만들 수 있게된다.</br>"
   ]
  },
  {
   "cell_type": "code",
   "execution_count": 60,
   "metadata": {},
   "outputs": [
    {
     "name": "stdout",
     "output_type": "stream",
     "text": [
      "6, 2, 8, 2.0, 16\n"
     ]
    }
   ],
   "source": [
    "# 클래스의 특징!!! - 상속!!!\n",
    "\n",
    "class advancedCal(multiCal):\n",
    "    def pow(self):\n",
    "        return self.num1 ** self.num2\n",
    "    \n",
    "\n",
    "c = advancedCal(4, 2)\n",
    "\n",
    "print(f'{c.add()}, {c.sub()}, {c.mul()}, {c.div()}, {c.pow()}')"
   ]
  },
  {
   "cell_type": "code",
   "execution_count": 61,
   "metadata": {},
   "outputs": [
    {
     "ename": "ZeroDivisionError",
     "evalue": "division by zero",
     "output_type": "error",
     "traceback": [
      "\u001b[1;31m---------------------------------------------------------------------------\u001b[0m",
      "\u001b[1;31mZeroDivisionError\u001b[0m                         Traceback (most recent call last)",
      "Cell \u001b[1;32mIn[61], line 5\u001b[0m\n\u001b[0;32m      1\u001b[0m \u001b[38;5;66;03m# 클래스의 단? 점?\u001b[39;00m\n\u001b[0;32m      3\u001b[0m d \u001b[38;5;241m=\u001b[39m multiCal(\u001b[38;5;241m5\u001b[39m, \u001b[38;5;241m0\u001b[39m)\n\u001b[1;32m----> 5\u001b[0m \u001b[43md\u001b[49m\u001b[38;5;241;43m.\u001b[39;49m\u001b[43mdiv\u001b[49m\u001b[43m(\u001b[49m\u001b[43m)\u001b[49m\n",
      "Cell \u001b[1;32mIn[59], line 16\u001b[0m, in \u001b[0;36mmultiCal.div\u001b[1;34m(self)\u001b[0m\n\u001b[0;32m     15\u001b[0m \u001b[38;5;28;01mdef\u001b[39;00m \u001b[38;5;21mdiv\u001b[39m(\u001b[38;5;28mself\u001b[39m):\n\u001b[1;32m---> 16\u001b[0m     \u001b[38;5;28;01mreturn\u001b[39;00m \u001b[38;5;28;43mself\u001b[39;49m\u001b[38;5;241;43m.\u001b[39;49m\u001b[43mnum1\u001b[49m\u001b[43m \u001b[49m\u001b[38;5;241;43m/\u001b[39;49m\u001b[43m \u001b[49m\u001b[38;5;28;43mself\u001b[39;49m\u001b[38;5;241;43m.\u001b[39;49m\u001b[43mnum2\u001b[49m\n",
      "\u001b[1;31mZeroDivisionError\u001b[0m: division by zero"
     ]
    }
   ],
   "source": [
    "# 클래스의 단? 점?\n",
    "\n",
    "d = multiCal(5, 0)\n",
    "\n",
    "d.div()"
   ]
  },
  {
   "cell_type": "markdown",
   "metadata": {},
   "source": [
    "### 메소드 오버라이드"
   ]
  },
  {
   "cell_type": "markdown",
   "metadata": {},
   "source": [
    "- `클래스 상속`: 업그레이드 같은 느낌!\n",
    "- `메소드 오버라이드`: 메소드 오버라이드는 상속과 동시에 기존에 있던 함수(def)를 덮어 씌움으로서 이전 단계에 있던 코드를 뜯지 않고, 다시 패치해줄 수 있다. = 버그패치 느낌!"
   ]
  },
  {
   "cell_type": "markdown",
   "metadata": {},
   "source": [
    "오버라이드는 상속시에 발생하는 상황 중 하나입니다.</br>\n",
    "</br>\n",
    "`자식 클래스`가 부모 클래스에 `이미 존재하는 함수 이름을 써서` 새 함수를 정의하려고 하면 `부모 클래스의 함수를 '덮어서 가리는' 상황`이 생깁니다. 이게 `오버라이딩`입니다.\n",
    "</br></br>\n",
    "개발할땐 개발할때 편의성도 따지지만,</br>유지보수하기에 적합한 코드로 생각하는 것도 중요하기 때문에 작성 이후 기능을 확장하거나</br>변경하기 쉽도록 코드 설계를 하기도 하는거 같아요.\n",
    "</br></br>\n",
    "+++ 클래스의 상속은 기존 클래스를 더 '전문화'시킬 때 사용하면 좋습니다.</br>\n",
    "계산기를 예로 들면 사칙연산 계산기 클래스를 상속받고 기능을 추가해서 전문가용 계산기 클래스를 만들 수 있겠구요.</br>\n",
    "동물 클래스가 있다면 육지동물과 바다동물로 상속한 다음에 거기서 더 나아가서 육지동물을 상속하는 개나 고양이, 사자 같은 클래스를 또 만들 수도 있습니다."
   ]
  },
  {
   "cell_type": "code",
   "execution_count": 62,
   "metadata": {},
   "outputs": [
    {
     "data": {
      "text/plain": [
       "0"
      ]
     },
     "execution_count": 62,
     "metadata": {},
     "output_type": "execute_result"
    }
   ],
   "source": [
    "# 기존에 있는 클래스를 변형하는 방법 ↓\n",
    "#   기존에 있던 multiCal에 있는 div() 를 덮어씌우는 것이다 <- 버그패치 같은 느낌!\n",
    "class SelfmultiCal(multiCal):\n",
    "    def div(self):\n",
    "        if self.num1 == 0 or self.num2 == 0:\n",
    "            return 0\n",
    "        else:\n",
    "            return self.num1 / self.num2\n",
    "    \n",
    "\n",
    "e = SelfmultiCal(5, 0)\n",
    "e.div()"
   ]
  },
  {
   "cell_type": "markdown",
   "metadata": {},
   "source": [
    "### 터틀 박스 만들기!\n",
    "- Python-Turtle/turtle_box.py"
   ]
  },
  {
   "cell_type": "markdown",
   "metadata": {},
   "source": []
  }
 ],
 "metadata": {
  "kernelspec": {
   "display_name": "ms_ai_school",
   "language": "python",
   "name": "python3"
  },
  "language_info": {
   "codemirror_mode": {
    "name": "ipython",
    "version": 3
   },
   "file_extension": ".py",
   "mimetype": "text/x-python",
   "name": "python",
   "nbconvert_exporter": "python",
   "pygments_lexer": "ipython3",
   "version": "3.13.1"
  }
 },
 "nbformat": 4,
 "nbformat_minor": 2
}
